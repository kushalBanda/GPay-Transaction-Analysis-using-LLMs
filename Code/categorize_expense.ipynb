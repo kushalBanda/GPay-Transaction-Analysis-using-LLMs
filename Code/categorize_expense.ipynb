{
 "cells": [
  {
   "cell_type": "code",
   "execution_count": 569,
   "metadata": {},
   "outputs": [],
   "source": [
    "# !pip install plotly panel"
   ]
  },
  {
   "cell_type": "code",
   "execution_count": 570,
   "metadata": {},
   "outputs": [],
   "source": [
    "import os \n",
    "import json\n",
    "import pandas as pd \n",
    "import traceback\n",
    "import re\n",
    "\n",
    "# Plotting \n",
    "import plotly.express as px\n",
    "import panel as pn\n",
    "\n",
    "from dotenv import load_dotenv\n",
    "load_dotenv()\n",
    "\n",
    "# LangChain\n",
    "from langchain.llms import OpenAI\n",
    "from langchain.chat_models import ChatOpenAI\n",
    "from langchain.prompts import PromptTemplate\n",
    "from langchain.chains import LLMChain, SequentialChain\n",
    "from langchain.callbacks import get_openai_callback\n",
    "from langchain_community.document_loaders.csv_loader import CSVLoader\n",
    "\n",
    "import warnings\n",
    "warnings.filterwarnings(\"ignore\")"
   ]
  },
  {
   "cell_type": "code",
   "execution_count": 571,
   "metadata": {},
   "outputs": [],
   "source": [
    "KEY = os.getenv(\"OPENAI_API_KEY\")"
   ]
  },
  {
   "cell_type": "code",
   "execution_count": 572,
   "metadata": {},
   "outputs": [],
   "source": [
    "llm = ChatOpenAI(openai_api_key = KEY, model_name = \"gpt-3.5-turbo\", temperature = 0.5)"
   ]
  },
  {
   "cell_type": "markdown",
   "metadata": {},
   "source": [
    "### Read transaction df"
   ]
  },
  {
   "cell_type": "code",
   "execution_count": 573,
   "metadata": {},
   "outputs": [
    {
     "data": {
      "text/html": [
       "<div>\n",
       "<style scoped>\n",
       "    .dataframe tbody tr th:only-of-type {\n",
       "        vertical-align: middle;\n",
       "    }\n",
       "\n",
       "    .dataframe tbody tr th {\n",
       "        vertical-align: top;\n",
       "    }\n",
       "\n",
       "    .dataframe thead th {\n",
       "        text-align: right;\n",
       "    }\n",
       "</style>\n",
       "<table border=\"1\" class=\"dataframe\">\n",
       "  <thead>\n",
       "    <tr style=\"text-align: right;\">\n",
       "      <th></th>\n",
       "      <th>0</th>\n",
       "    </tr>\n",
       "  </thead>\n",
       "  <tbody>\n",
       "    <tr>\n",
       "      <th>0</th>\n",
       "      <td>Google Pay</td>\n",
       "    </tr>\n",
       "    <tr>\n",
       "      <th>1</th>\n",
       "      <td>Paid 492.00 using Bank Account XXXXXX5367</td>\n",
       "    </tr>\n",
       "    <tr>\n",
       "      <th>2</th>\n",
       "      <td>24 Feb 2024, 23:42:42 IST</td>\n",
       "    </tr>\n",
       "    <tr>\n",
       "      <th>3</th>\n",
       "      <td>Products:</td>\n",
       "    </tr>\n",
       "    <tr>\n",
       "      <th>4</th>\n",
       "      <td>Google Pay</td>\n",
       "    </tr>\n",
       "    <tr>\n",
       "      <th>5</th>\n",
       "      <td>Details:</td>\n",
       "    </tr>\n",
       "    <tr>\n",
       "      <th>6</th>\n",
       "      <td>BrRLz7GeTu+gMU1Y</td>\n",
       "    </tr>\n",
       "    <tr>\n",
       "      <th>7</th>\n",
       "      <td>Completed</td>\n",
       "    </tr>\n",
       "    <tr>\n",
       "      <th>8</th>\n",
       "      <td>Google Pay</td>\n",
       "    </tr>\n",
       "    <tr>\n",
       "      <th>9</th>\n",
       "      <td>Paid 477.22 to Zomato using Bank Account XXXXX...</td>\n",
       "    </tr>\n",
       "  </tbody>\n",
       "</table>\n",
       "</div>"
      ],
      "text/plain": [
       "                                                   0\n",
       "0                                         Google Pay\n",
       "1          Paid 492.00 using Bank Account XXXXXX5367\n",
       "2                          24 Feb 2024, 23:42:42 IST\n",
       "3                                          Products:\n",
       "4                                         Google Pay\n",
       "5                                           Details:\n",
       "6                                   BrRLz7GeTu+gMU1Y\n",
       "7                                          Completed\n",
       "8                                         Google Pay\n",
       "9  Paid 477.22 to Zomato using Bank Account XXXXX..."
      ]
     },
     "execution_count": 573,
     "metadata": {},
     "output_type": "execute_result"
    }
   ],
   "source": [
    "# Read the transaction file\n",
    "df = pd.read_csv(\"./Copy of My-Activity.csv\", header = None)\n",
    "df = df.replace(\"â‚¹\", \"\", regex=True)\n",
    "df.head(10)"
   ]
  },
  {
   "cell_type": "code",
   "execution_count": 574,
   "metadata": {},
   "outputs": [
    {
     "data": {
      "text/html": [
       "<div>\n",
       "<style scoped>\n",
       "    .dataframe tbody tr th:only-of-type {\n",
       "        vertical-align: middle;\n",
       "    }\n",
       "\n",
       "    .dataframe tbody tr th {\n",
       "        vertical-align: top;\n",
       "    }\n",
       "\n",
       "    .dataframe thead th {\n",
       "        text-align: right;\n",
       "    }\n",
       "</style>\n",
       "<table border=\"1\" class=\"dataframe\">\n",
       "  <thead>\n",
       "    <tr style=\"text-align: right;\">\n",
       "      <th></th>\n",
       "      <th>Paid Info</th>\n",
       "      <th>Date</th>\n",
       "      <th>Time</th>\n",
       "      <th>Product</th>\n",
       "      <th>Details</th>\n",
       "      <th>Status</th>\n",
       "    </tr>\n",
       "  </thead>\n",
       "  <tbody>\n",
       "    <tr>\n",
       "      <th>0</th>\n",
       "      <td>Paid 492.00 using Bank Account XXXXXX5367</td>\n",
       "      <td>24 Feb 2024</td>\n",
       "      <td>23:42:42 IST</td>\n",
       "      <td>Google Pay</td>\n",
       "      <td>BrRLz7GeTu+gMU1Y</td>\n",
       "      <td>Completed</td>\n",
       "    </tr>\n",
       "    <tr>\n",
       "      <th>1</th>\n",
       "      <td>Paid 477.22 to Zomato using Bank Account XXXXX...</td>\n",
       "      <td>24 Feb 2024</td>\n",
       "      <td>23:29:05 IST</td>\n",
       "      <td>Google Pay</td>\n",
       "      <td>Kbuxp7NqSvmNjKCA</td>\n",
       "      <td>Completed</td>\n",
       "    </tr>\n",
       "    <tr>\n",
       "      <th>3</th>\n",
       "      <td>Paid 644.00 using Bank Account XXXXXX5367</td>\n",
       "      <td>24 Feb 2024</td>\n",
       "      <td>16:49:14 IST</td>\n",
       "      <td>Google Pay</td>\n",
       "      <td>lbcbpAmpT2ief1Fx</td>\n",
       "      <td>Completed</td>\n",
       "    </tr>\n",
       "    <tr>\n",
       "      <th>4</th>\n",
       "      <td>Paid 140.00 to HOTEL SRI RAGHAVENDRA using Ban...</td>\n",
       "      <td>24 Feb 2024</td>\n",
       "      <td>12:12:53 IST</td>\n",
       "      <td>Google Pay</td>\n",
       "      <td>sO+iBrMVRb6AYIHm</td>\n",
       "      <td>Completed</td>\n",
       "    </tr>\n",
       "    <tr>\n",
       "      <th>7</th>\n",
       "      <td>Paid 40.00 to MUPPARAPU LAVAN using Bank Accou...</td>\n",
       "      <td>23 Feb 2024</td>\n",
       "      <td>21:05:45 IST</td>\n",
       "      <td>Google Pay</td>\n",
       "      <td>d4DinRkqSRWqjeCh</td>\n",
       "      <td>Completed</td>\n",
       "    </tr>\n",
       "    <tr>\n",
       "      <th>...</th>\n",
       "      <td>...</td>\n",
       "      <td>...</td>\n",
       "      <td>...</td>\n",
       "      <td>...</td>\n",
       "      <td>...</td>\n",
       "      <td>...</td>\n",
       "    </tr>\n",
       "    <tr>\n",
       "      <th>553</th>\n",
       "      <td>Paid 15.00 to Groww using Bank Account XXXXXX2322</td>\n",
       "      <td>22 Sept 2021</td>\n",
       "      <td>15:11:05 IST</td>\n",
       "      <td>Google Pay</td>\n",
       "      <td>KC1AT7PCT+uKjP0h</td>\n",
       "      <td>Completed</td>\n",
       "    </tr>\n",
       "    <tr>\n",
       "      <th>554</th>\n",
       "      <td>Paid 20.00 to Groww using Bank Account XXXXXX2322</td>\n",
       "      <td>22 Sept 2021</td>\n",
       "      <td>15:01:11 IST</td>\n",
       "      <td>Google Pay</td>\n",
       "      <td>As530AmcTsSGVOM3</td>\n",
       "      <td>Completed</td>\n",
       "    </tr>\n",
       "    <tr>\n",
       "      <th>555</th>\n",
       "      <td>Paid 236.00 to Groww using Bank Account XXXXXX...</td>\n",
       "      <td>22 Sept 2021</td>\n",
       "      <td>15:00:05 IST</td>\n",
       "      <td>Google Pay</td>\n",
       "      <td>MBj1yQkeSmSCLhJa</td>\n",
       "      <td>Completed</td>\n",
       "    </tr>\n",
       "    <tr>\n",
       "      <th>557</th>\n",
       "      <td>Paid 10,000.00 to Groww using Bank Account XXX...</td>\n",
       "      <td>2 Sept 2021</td>\n",
       "      <td>19:12:57 IST</td>\n",
       "      <td>Google Pay</td>\n",
       "      <td>SdquwSVQRaK3vVX/</td>\n",
       "      <td>Completed</td>\n",
       "    </tr>\n",
       "    <tr>\n",
       "      <th>562</th>\n",
       "      <td>Paid 60.00 using Bank Account XXXXXX2322</td>\n",
       "      <td>26 Aug 2021</td>\n",
       "      <td>19:06:00 IST</td>\n",
       "      <td>Google Pay</td>\n",
       "      <td>hzK3EltZSqmPYMRY</td>\n",
       "      <td>Completed</td>\n",
       "    </tr>\n",
       "  </tbody>\n",
       "</table>\n",
       "<p>268 rows × 6 columns</p>\n",
       "</div>"
      ],
      "text/plain": [
       "                                             Paid Info          Date  \\\n",
       "0            Paid 492.00 using Bank Account XXXXXX5367   24 Feb 2024   \n",
       "1    Paid 477.22 to Zomato using Bank Account XXXXX...   24 Feb 2024   \n",
       "3            Paid 644.00 using Bank Account XXXXXX5367   24 Feb 2024   \n",
       "4    Paid 140.00 to HOTEL SRI RAGHAVENDRA using Ban...   24 Feb 2024   \n",
       "7    Paid 40.00 to MUPPARAPU LAVAN using Bank Accou...   23 Feb 2024   \n",
       "..                                                 ...           ...   \n",
       "553  Paid 15.00 to Groww using Bank Account XXXXXX2322  22 Sept 2021   \n",
       "554  Paid 20.00 to Groww using Bank Account XXXXXX2322  22 Sept 2021   \n",
       "555  Paid 236.00 to Groww using Bank Account XXXXXX...  22 Sept 2021   \n",
       "557  Paid 10,000.00 to Groww using Bank Account XXX...   2 Sept 2021   \n",
       "562           Paid 60.00 using Bank Account XXXXXX2322   26 Aug 2021   \n",
       "\n",
       "              Time     Product           Details     Status  \n",
       "0     23:42:42 IST  Google Pay  BrRLz7GeTu+gMU1Y  Completed  \n",
       "1     23:29:05 IST  Google Pay  Kbuxp7NqSvmNjKCA  Completed  \n",
       "3     16:49:14 IST  Google Pay  lbcbpAmpT2ief1Fx  Completed  \n",
       "4     12:12:53 IST  Google Pay  sO+iBrMVRb6AYIHm  Completed  \n",
       "7     21:05:45 IST  Google Pay  d4DinRkqSRWqjeCh  Completed  \n",
       "..             ...         ...               ...        ...  \n",
       "553   15:11:05 IST  Google Pay  KC1AT7PCT+uKjP0h  Completed  \n",
       "554   15:01:11 IST  Google Pay  As530AmcTsSGVOM3  Completed  \n",
       "555   15:00:05 IST  Google Pay  MBj1yQkeSmSCLhJa  Completed  \n",
       "557   19:12:57 IST  Google Pay  SdquwSVQRaK3vVX/  Completed  \n",
       "562   19:06:00 IST  Google Pay  hzK3EltZSqmPYMRY  Completed  \n",
       "\n",
       "[268 rows x 6 columns]"
      ]
     },
     "execution_count": 574,
     "metadata": {},
     "output_type": "execute_result"
    }
   ],
   "source": [
    "# Initialize an empty list to collect the transaction df\n",
    "activity_df_list = []\n",
    "\n",
    "# Temporary dictionary to store the current transaction\"s df\n",
    "temp_df = {\"Paid Info\": None, \"Date\": None, \"Time\": None, \n",
    "            \"Product\": None, \"Details\": None, \"Status\": None}\n",
    "\n",
    "# Flag to mark when we are capturing multi-line details\n",
    "capturing_details = False\n",
    "\n",
    "for index, row in df.iterrows():\n",
    "    text = row[0]\n",
    "\n",
    "    # if \"Paid\" in text or \"Received\" in text or \"Sent\" in text:\n",
    "    if \"Paid\" in text:\n",
    "        # if \"Zomato\" in text or \"Spotify\" in text or  \"Netflix\" in text or \"StockEdge\" in text or \"Udemy\" in text or \"BOOKMYSHOW\" in text or \"AMRIT ENTERPRISES\" in text or \"MUPPARAPU LAVAN\" in text:\n",
    "            temp_df[\"Paid Info\"] = text\n",
    "    elif \"IST\" in text:\n",
    "        temp_df[\"Date\"] = text.split(\",\")[0]\n",
    "        temp_df[\"Time\"] = text.split(\",\")[1]\n",
    "    elif text.startswith(\"Products:\"):\n",
    "        # We expect the next line to be \"Google Pay\" or similar product name\n",
    "        continue\n",
    "    elif text.startswith(\"Google Pay\") and not temp_df[\"Product\"]:\n",
    "        temp_df[\"Product\"] = text\n",
    "    elif \"Details:\" in text:\n",
    "        # We expect the next line to contain the details\n",
    "        capturing_details = True\n",
    "    elif capturing_details:\n",
    "        temp_df[\"Details\"] = text\n",
    "        capturing_details = False\n",
    "    elif text.startswith(\"Completed\"):\n",
    "        temp_df[\"Status\"] = text\n",
    "        # Add the transaction to the list and reset temp_df\n",
    "        activity_df_list.append(temp_df.copy())\n",
    "        temp_df = {key: None for key in temp_df}\n",
    "\n",
    "# Convert the list of transaction df to a dfFrame\n",
    "activity_df = pd.DataFrame(activity_df_list)\n",
    "activity_df.dropna(subset=[\"Paid Info\"], inplace = True)\n",
    "activity_df"
   ]
  },
  {
   "cell_type": "code",
   "execution_count": 575,
   "metadata": {},
   "outputs": [],
   "source": [
    "# activity_df.to_csv(\"Activity_df(New).csv\")"
   ]
  },
  {
   "cell_type": "code",
   "execution_count": 576,
   "metadata": {},
   "outputs": [
    {
     "data": {
      "text/html": [
       "<div>\n",
       "<style scoped>\n",
       "    .dataframe tbody tr th:only-of-type {\n",
       "        vertical-align: middle;\n",
       "    }\n",
       "\n",
       "    .dataframe tbody tr th {\n",
       "        vertical-align: top;\n",
       "    }\n",
       "\n",
       "    .dataframe thead th {\n",
       "        text-align: right;\n",
       "    }\n",
       "</style>\n",
       "<table border=\"1\" class=\"dataframe\">\n",
       "  <thead>\n",
       "    <tr style=\"text-align: right;\">\n",
       "      <th></th>\n",
       "      <th>Date</th>\n",
       "      <th>Cleaned Date</th>\n",
       "      <th>Converted Date</th>\n",
       "    </tr>\n",
       "  </thead>\n",
       "  <tbody>\n",
       "    <tr>\n",
       "      <th>0</th>\n",
       "      <td>24 Feb 2024</td>\n",
       "      <td>24 Feb 2024</td>\n",
       "      <td>2024-02-24</td>\n",
       "    </tr>\n",
       "    <tr>\n",
       "      <th>1</th>\n",
       "      <td>24 Feb 2024</td>\n",
       "      <td>24 Feb 2024</td>\n",
       "      <td>2024-02-24</td>\n",
       "    </tr>\n",
       "    <tr>\n",
       "      <th>3</th>\n",
       "      <td>24 Feb 2024</td>\n",
       "      <td>24 Feb 2024</td>\n",
       "      <td>2024-02-24</td>\n",
       "    </tr>\n",
       "    <tr>\n",
       "      <th>4</th>\n",
       "      <td>24 Feb 2024</td>\n",
       "      <td>24 Feb 2024</td>\n",
       "      <td>2024-02-24</td>\n",
       "    </tr>\n",
       "    <tr>\n",
       "      <th>7</th>\n",
       "      <td>23 Feb 2024</td>\n",
       "      <td>23 Feb 2024</td>\n",
       "      <td>2024-02-23</td>\n",
       "    </tr>\n",
       "    <tr>\n",
       "      <th>9</th>\n",
       "      <td>23 Feb 2024</td>\n",
       "      <td>23 Feb 2024</td>\n",
       "      <td>2024-02-23</td>\n",
       "    </tr>\n",
       "    <tr>\n",
       "      <th>10</th>\n",
       "      <td>23 Feb 2024</td>\n",
       "      <td>23 Feb 2024</td>\n",
       "      <td>2024-02-23</td>\n",
       "    </tr>\n",
       "    <tr>\n",
       "      <th>11</th>\n",
       "      <td>23 Feb 2024</td>\n",
       "      <td>23 Feb 2024</td>\n",
       "      <td>2024-02-23</td>\n",
       "    </tr>\n",
       "    <tr>\n",
       "      <th>12</th>\n",
       "      <td>22 Feb 2024</td>\n",
       "      <td>22 Feb 2024</td>\n",
       "      <td>2024-02-22</td>\n",
       "    </tr>\n",
       "    <tr>\n",
       "      <th>13</th>\n",
       "      <td>22 Feb 2024</td>\n",
       "      <td>22 Feb 2024</td>\n",
       "      <td>2024-02-22</td>\n",
       "    </tr>\n",
       "  </tbody>\n",
       "</table>\n",
       "</div>"
      ],
      "text/plain": [
       "           Date Cleaned Date Converted Date\n",
       "0   24 Feb 2024  24 Feb 2024     2024-02-24\n",
       "1   24 Feb 2024  24 Feb 2024     2024-02-24\n",
       "3   24 Feb 2024  24 Feb 2024     2024-02-24\n",
       "4   24 Feb 2024  24 Feb 2024     2024-02-24\n",
       "7   23 Feb 2024  23 Feb 2024     2024-02-23\n",
       "9   23 Feb 2024  23 Feb 2024     2024-02-23\n",
       "10  23 Feb 2024  23 Feb 2024     2024-02-23\n",
       "11  23 Feb 2024  23 Feb 2024     2024-02-23\n",
       "12  22 Feb 2024  22 Feb 2024     2024-02-22\n",
       "13  22 Feb 2024  22 Feb 2024     2024-02-22"
      ]
     },
     "execution_count": 576,
     "metadata": {},
     "output_type": "execute_result"
    }
   ],
   "source": [
    "# Function to clean and standardize date strings\n",
    "def clean_date(date_str):\n",
    "    # Remove non-date characters (like \"\\x0c\")\n",
    "    cleaned_str = re.sub(r\"[^\\w\\s]\", \"\", date_str)\n",
    "\n",
    "    # Standardize month abbreviations\n",
    "    month_replacements = {\n",
    "        \"Jan\": \"Jan\", \"Feb\": \"Feb\", \"Mar\": \"Mar\", \"Apr\": \"Apr\", \"May\": \"May\", \"Jun\": \"Jun\",\n",
    "        \"Jul\": \"Jul\", \"Aug\": \"Aug\", \"Sep\": \"Sep\", \"Sept\": \"Sep\", \"Oct\": \"Oct\", \"Nov\": \"Nov\", \"Dec\": \"Dec\"\n",
    "    }\n",
    "    for k, v in month_replacements.items():\n",
    "        cleaned_str = cleaned_str.replace(k, v)\n",
    "\n",
    "    return cleaned_str\n",
    "\n",
    "# Apply the cleaning function to the \"Date\" column\n",
    "activity_df[\"Cleaned Date\"] = activity_df[\"Date\"].apply(clean_date)\n",
    "\n",
    "# Attempt conversion again\n",
    "activity_df[\"Converted Date\"] = pd.to_datetime(activity_df[\"Cleaned Date\"], format=\"%d %b %Y\", errors=\"coerce\").dt.strftime(\"%Y-%m-%d\")\n",
    "\n",
    "# Display the first few rows of the modified dfframe to verify changes\n",
    "activity_df[[\"Date\", \"Cleaned Date\", \"Converted Date\"]].head(10)"
   ]
  },
  {
   "cell_type": "code",
   "execution_count": 577,
   "metadata": {},
   "outputs": [],
   "source": [
    "activity_df.dropna(subset = [\"Converted Date\"], inplace = True)"
   ]
  },
  {
   "cell_type": "code",
   "execution_count": 578,
   "metadata": {},
   "outputs": [],
   "source": [
    "activity_df.drop(columns = [\"Date\", \"Cleaned Date\", \"Time\"], inplace = True)"
   ]
  },
  {
   "cell_type": "code",
   "execution_count": 579,
   "metadata": {},
   "outputs": [],
   "source": [
    "# Current order of columns\n",
    "current_columns = activity_df.columns.tolist()\n",
    "\n",
    "# Desired order: moving \"Converted Date\" to be the second column\n",
    "new_order = current_columns[:2] + [\"Converted Date\"] + current_columns[2:-1]\n",
    "\n",
    "# Reorder the columns in the dfFrame\n",
    "activity_df = activity_df[new_order]\n",
    "\n",
    "# Display the first few rows of the reordered dfframe\n",
    "activity_df.head()\n",
    "activity_df.rename(columns={\"Converted Date\": \"Date\"}, inplace=True)\n",
    "activity_df[\"Date\"] = pd.to_datetime(activity_df[\"Date\"])\n",
    "activity_df.drop(columns = [\"Product\", \"Details\", \"Status\"], axis = 1, inplace = True)"
   ]
  },
  {
   "cell_type": "code",
   "execution_count": 580,
   "metadata": {},
   "outputs": [
    {
     "data": {
      "text/html": [
       "<div>\n",
       "<style scoped>\n",
       "    .dataframe tbody tr th:only-of-type {\n",
       "        vertical-align: middle;\n",
       "    }\n",
       "\n",
       "    .dataframe tbody tr th {\n",
       "        vertical-align: top;\n",
       "    }\n",
       "\n",
       "    .dataframe thead th {\n",
       "        text-align: right;\n",
       "    }\n",
       "</style>\n",
       "<table border=\"1\" class=\"dataframe\">\n",
       "  <thead>\n",
       "    <tr style=\"text-align: right;\">\n",
       "      <th></th>\n",
       "      <th>Paid Info</th>\n",
       "      <th>Date</th>\n",
       "    </tr>\n",
       "  </thead>\n",
       "  <tbody>\n",
       "    <tr>\n",
       "      <th>0</th>\n",
       "      <td>Paid 492.00 using Bank Account XXXXXX5367</td>\n",
       "      <td>2024-02-24</td>\n",
       "    </tr>\n",
       "    <tr>\n",
       "      <th>1</th>\n",
       "      <td>Paid 477.22 to Zomato using Bank Account XXXXX...</td>\n",
       "      <td>2024-02-24</td>\n",
       "    </tr>\n",
       "    <tr>\n",
       "      <th>3</th>\n",
       "      <td>Paid 644.00 using Bank Account XXXXXX5367</td>\n",
       "      <td>2024-02-24</td>\n",
       "    </tr>\n",
       "    <tr>\n",
       "      <th>4</th>\n",
       "      <td>Paid 140.00 to HOTEL SRI RAGHAVENDRA using Ban...</td>\n",
       "      <td>2024-02-24</td>\n",
       "    </tr>\n",
       "    <tr>\n",
       "      <th>7</th>\n",
       "      <td>Paid 40.00 to MUPPARAPU LAVAN using Bank Accou...</td>\n",
       "      <td>2024-02-23</td>\n",
       "    </tr>\n",
       "    <tr>\n",
       "      <th>9</th>\n",
       "      <td>Paid 3572.50 to BOOKMYSHOW using Bank Account ...</td>\n",
       "      <td>2024-02-23</td>\n",
       "    </tr>\n",
       "    <tr>\n",
       "      <th>10</th>\n",
       "      <td>Paid 20.00 to Mr S RAMESH using Bank Account X...</td>\n",
       "      <td>2024-02-23</td>\n",
       "    </tr>\n",
       "    <tr>\n",
       "      <th>11</th>\n",
       "      <td>Paid 100.00 to Mr S RAMESH using Bank Account ...</td>\n",
       "      <td>2024-02-23</td>\n",
       "    </tr>\n",
       "    <tr>\n",
       "      <th>12</th>\n",
       "      <td>Paid 40.00 to VENKATESH K using Bank Account X...</td>\n",
       "      <td>2024-02-22</td>\n",
       "    </tr>\n",
       "    <tr>\n",
       "      <th>13</th>\n",
       "      <td>Paid 815.00 using Bank Account XXXXXX5367</td>\n",
       "      <td>2024-02-22</td>\n",
       "    </tr>\n",
       "    <tr>\n",
       "      <th>15</th>\n",
       "      <td>Paid 15.00 to AMRIT ENTERPRISES using Bank Acc...</td>\n",
       "      <td>2024-02-22</td>\n",
       "    </tr>\n",
       "    <tr>\n",
       "      <th>16</th>\n",
       "      <td>Paid 70.00 to VENKATESH JANGI using Bank Accou...</td>\n",
       "      <td>2024-02-22</td>\n",
       "    </tr>\n",
       "    <tr>\n",
       "      <th>18</th>\n",
       "      <td>Paid 499.00 to Netflix Entertainment Services ...</td>\n",
       "      <td>2024-02-21</td>\n",
       "    </tr>\n",
       "    <tr>\n",
       "      <th>19</th>\n",
       "      <td>Paid 549.00 to UDEMY INDIA LLP COLLECTIONS usi...</td>\n",
       "      <td>2024-02-21</td>\n",
       "    </tr>\n",
       "    <tr>\n",
       "      <th>20</th>\n",
       "      <td>Paid 20.00 to MUPPARAPU LAVAN using Bank Accou...</td>\n",
       "      <td>2024-02-21</td>\n",
       "    </tr>\n",
       "    <tr>\n",
       "      <th>21</th>\n",
       "      <td>Paid 15.00 to AMRIT ENTERPRISES using Bank Acc...</td>\n",
       "      <td>2024-02-21</td>\n",
       "    </tr>\n",
       "    <tr>\n",
       "      <th>22</th>\n",
       "      <td>Paid 149.90 to StockEdge using Bank Account XX...</td>\n",
       "      <td>2024-02-21</td>\n",
       "    </tr>\n",
       "    <tr>\n",
       "      <th>23</th>\n",
       "      <td>Paid 480.00 to Konduri Siva Rama Prasad using ...</td>\n",
       "      <td>2024-02-21</td>\n",
       "    </tr>\n",
       "    <tr>\n",
       "      <th>25</th>\n",
       "      <td>Paid 40.00 to VENKATESH K using Bank Account X...</td>\n",
       "      <td>2024-02-20</td>\n",
       "    </tr>\n",
       "    <tr>\n",
       "      <th>26</th>\n",
       "      <td>Paid 30.00 to AMRIT ENTERPRISES using Bank Acc...</td>\n",
       "      <td>2024-02-20</td>\n",
       "    </tr>\n",
       "  </tbody>\n",
       "</table>\n",
       "</div>"
      ],
      "text/plain": [
       "                                            Paid Info       Date\n",
       "0           Paid 492.00 using Bank Account XXXXXX5367 2024-02-24\n",
       "1   Paid 477.22 to Zomato using Bank Account XXXXX... 2024-02-24\n",
       "3           Paid 644.00 using Bank Account XXXXXX5367 2024-02-24\n",
       "4   Paid 140.00 to HOTEL SRI RAGHAVENDRA using Ban... 2024-02-24\n",
       "7   Paid 40.00 to MUPPARAPU LAVAN using Bank Accou... 2024-02-23\n",
       "9   Paid 3572.50 to BOOKMYSHOW using Bank Account ... 2024-02-23\n",
       "10  Paid 20.00 to Mr S RAMESH using Bank Account X... 2024-02-23\n",
       "11  Paid 100.00 to Mr S RAMESH using Bank Account ... 2024-02-23\n",
       "12  Paid 40.00 to VENKATESH K using Bank Account X... 2024-02-22\n",
       "13          Paid 815.00 using Bank Account XXXXXX5367 2024-02-22\n",
       "15  Paid 15.00 to AMRIT ENTERPRISES using Bank Acc... 2024-02-22\n",
       "16  Paid 70.00 to VENKATESH JANGI using Bank Accou... 2024-02-22\n",
       "18  Paid 499.00 to Netflix Entertainment Services ... 2024-02-21\n",
       "19  Paid 549.00 to UDEMY INDIA LLP COLLECTIONS usi... 2024-02-21\n",
       "20  Paid 20.00 to MUPPARAPU LAVAN using Bank Accou... 2024-02-21\n",
       "21  Paid 15.00 to AMRIT ENTERPRISES using Bank Acc... 2024-02-21\n",
       "22  Paid 149.90 to StockEdge using Bank Account XX... 2024-02-21\n",
       "23  Paid 480.00 to Konduri Siva Rama Prasad using ... 2024-02-21\n",
       "25  Paid 40.00 to VENKATESH K using Bank Account X... 2024-02-20\n",
       "26  Paid 30.00 to AMRIT ENTERPRISES using Bank Acc... 2024-02-20"
      ]
     },
     "execution_count": 580,
     "metadata": {},
     "output_type": "execute_result"
    }
   ],
   "source": [
    "activity_df.head(20)"
   ]
  },
  {
   "cell_type": "code",
   "execution_count": 581,
   "metadata": {},
   "outputs": [],
   "source": [
    "# activity_df.to_csv(\"Activity_df.csv\", index = False)"
   ]
  },
  {
   "cell_type": "code",
   "execution_count": 582,
   "metadata": {},
   "outputs": [
    {
     "name": "stdout",
     "output_type": "stream",
     "text": [
      "<class 'pandas.core.frame.DataFrame'>\n",
      "Index: 265 entries, 0 to 562\n",
      "Data columns (total 2 columns):\n",
      " #   Column     Non-Null Count  Dtype         \n",
      "---  ------     --------------  -----         \n",
      " 0   Paid Info  265 non-null    object        \n",
      " 1   Date       265 non-null    datetime64[ns]\n",
      "dtypes: datetime64[ns](1), object(1)\n",
      "memory usage: 6.2+ KB\n"
     ]
    }
   ],
   "source": [
    "activity_df.info()"
   ]
  },
  {
   "cell_type": "code",
   "execution_count": 583,
   "metadata": {},
   "outputs": [
    {
     "data": {
      "text/html": [
       "<div>\n",
       "<style scoped>\n",
       "    .dataframe tbody tr th:only-of-type {\n",
       "        vertical-align: middle;\n",
       "    }\n",
       "\n",
       "    .dataframe tbody tr th {\n",
       "        vertical-align: top;\n",
       "    }\n",
       "\n",
       "    .dataframe thead th {\n",
       "        text-align: right;\n",
       "    }\n",
       "</style>\n",
       "<table border=\"1\" class=\"dataframe\">\n",
       "  <thead>\n",
       "    <tr style=\"text-align: right;\">\n",
       "      <th></th>\n",
       "      <th>Paid Info</th>\n",
       "      <th>Date</th>\n",
       "    </tr>\n",
       "  </thead>\n",
       "  <tbody>\n",
       "    <tr>\n",
       "      <th>0</th>\n",
       "      <td>Paid 492.00 using Bank Account XXXXXX5367</td>\n",
       "      <td>2024-02-24</td>\n",
       "    </tr>\n",
       "    <tr>\n",
       "      <th>1</th>\n",
       "      <td>Paid 477.22 to Zomato using Bank Account XXXXX...</td>\n",
       "      <td>2024-02-24</td>\n",
       "    </tr>\n",
       "    <tr>\n",
       "      <th>3</th>\n",
       "      <td>Paid 644.00 using Bank Account XXXXXX5367</td>\n",
       "      <td>2024-02-24</td>\n",
       "    </tr>\n",
       "    <tr>\n",
       "      <th>4</th>\n",
       "      <td>Paid 140.00 to HOTEL SRI RAGHAVENDRA using Ban...</td>\n",
       "      <td>2024-02-24</td>\n",
       "    </tr>\n",
       "    <tr>\n",
       "      <th>7</th>\n",
       "      <td>Paid 40.00 to MUPPARAPU LAVAN using Bank Accou...</td>\n",
       "      <td>2024-02-23</td>\n",
       "    </tr>\n",
       "    <tr>\n",
       "      <th>9</th>\n",
       "      <td>Paid 3572.50 to BOOKMYSHOW using Bank Account ...</td>\n",
       "      <td>2024-02-23</td>\n",
       "    </tr>\n",
       "    <tr>\n",
       "      <th>10</th>\n",
       "      <td>Paid 20.00 to Mr S RAMESH using Bank Account X...</td>\n",
       "      <td>2024-02-23</td>\n",
       "    </tr>\n",
       "    <tr>\n",
       "      <th>11</th>\n",
       "      <td>Paid 100.00 to Mr S RAMESH using Bank Account ...</td>\n",
       "      <td>2024-02-23</td>\n",
       "    </tr>\n",
       "    <tr>\n",
       "      <th>12</th>\n",
       "      <td>Paid 40.00 to VENKATESH K using Bank Account X...</td>\n",
       "      <td>2024-02-22</td>\n",
       "    </tr>\n",
       "    <tr>\n",
       "      <th>13</th>\n",
       "      <td>Paid 815.00 using Bank Account XXXXXX5367</td>\n",
       "      <td>2024-02-22</td>\n",
       "    </tr>\n",
       "    <tr>\n",
       "      <th>15</th>\n",
       "      <td>Paid 15.00 to AMRIT ENTERPRISES using Bank Acc...</td>\n",
       "      <td>2024-02-22</td>\n",
       "    </tr>\n",
       "    <tr>\n",
       "      <th>16</th>\n",
       "      <td>Paid 70.00 to VENKATESH JANGI using Bank Accou...</td>\n",
       "      <td>2024-02-22</td>\n",
       "    </tr>\n",
       "    <tr>\n",
       "      <th>18</th>\n",
       "      <td>Paid 499.00 to Netflix Entertainment Services ...</td>\n",
       "      <td>2024-02-21</td>\n",
       "    </tr>\n",
       "    <tr>\n",
       "      <th>19</th>\n",
       "      <td>Paid 549.00 to UDEMY INDIA LLP COLLECTIONS usi...</td>\n",
       "      <td>2024-02-21</td>\n",
       "    </tr>\n",
       "    <tr>\n",
       "      <th>20</th>\n",
       "      <td>Paid 20.00 to MUPPARAPU LAVAN using Bank Accou...</td>\n",
       "      <td>2024-02-21</td>\n",
       "    </tr>\n",
       "    <tr>\n",
       "      <th>21</th>\n",
       "      <td>Paid 15.00 to AMRIT ENTERPRISES using Bank Acc...</td>\n",
       "      <td>2024-02-21</td>\n",
       "    </tr>\n",
       "    <tr>\n",
       "      <th>22</th>\n",
       "      <td>Paid 149.90 to StockEdge using Bank Account XX...</td>\n",
       "      <td>2024-02-21</td>\n",
       "    </tr>\n",
       "    <tr>\n",
       "      <th>23</th>\n",
       "      <td>Paid 480.00 to Konduri Siva Rama Prasad using ...</td>\n",
       "      <td>2024-02-21</td>\n",
       "    </tr>\n",
       "    <tr>\n",
       "      <th>25</th>\n",
       "      <td>Paid 40.00 to VENKATESH K using Bank Account X...</td>\n",
       "      <td>2024-02-20</td>\n",
       "    </tr>\n",
       "    <tr>\n",
       "      <th>26</th>\n",
       "      <td>Paid 30.00 to AMRIT ENTERPRISES using Bank Acc...</td>\n",
       "      <td>2024-02-20</td>\n",
       "    </tr>\n",
       "  </tbody>\n",
       "</table>\n",
       "</div>"
      ],
      "text/plain": [
       "                                            Paid Info       Date\n",
       "0           Paid 492.00 using Bank Account XXXXXX5367 2024-02-24\n",
       "1   Paid 477.22 to Zomato using Bank Account XXXXX... 2024-02-24\n",
       "3           Paid 644.00 using Bank Account XXXXXX5367 2024-02-24\n",
       "4   Paid 140.00 to HOTEL SRI RAGHAVENDRA using Ban... 2024-02-24\n",
       "7   Paid 40.00 to MUPPARAPU LAVAN using Bank Accou... 2024-02-23\n",
       "9   Paid 3572.50 to BOOKMYSHOW using Bank Account ... 2024-02-23\n",
       "10  Paid 20.00 to Mr S RAMESH using Bank Account X... 2024-02-23\n",
       "11  Paid 100.00 to Mr S RAMESH using Bank Account ... 2024-02-23\n",
       "12  Paid 40.00 to VENKATESH K using Bank Account X... 2024-02-22\n",
       "13          Paid 815.00 using Bank Account XXXXXX5367 2024-02-22\n",
       "15  Paid 15.00 to AMRIT ENTERPRISES using Bank Acc... 2024-02-22\n",
       "16  Paid 70.00 to VENKATESH JANGI using Bank Accou... 2024-02-22\n",
       "18  Paid 499.00 to Netflix Entertainment Services ... 2024-02-21\n",
       "19  Paid 549.00 to UDEMY INDIA LLP COLLECTIONS usi... 2024-02-21\n",
       "20  Paid 20.00 to MUPPARAPU LAVAN using Bank Accou... 2024-02-21\n",
       "21  Paid 15.00 to AMRIT ENTERPRISES using Bank Acc... 2024-02-21\n",
       "22  Paid 149.90 to StockEdge using Bank Account XX... 2024-02-21\n",
       "23  Paid 480.00 to Konduri Siva Rama Prasad using ... 2024-02-21\n",
       "25  Paid 40.00 to VENKATESH K using Bank Account X... 2024-02-20\n",
       "26  Paid 30.00 to AMRIT ENTERPRISES using Bank Acc... 2024-02-20"
      ]
     },
     "execution_count": 583,
     "metadata": {},
     "output_type": "execute_result"
    }
   ],
   "source": [
    "activity_df.head(20)"
   ]
  },
  {
   "cell_type": "code",
   "execution_count": 584,
   "metadata": {},
   "outputs": [],
   "source": [
    "# activity_df.to_csv(\"New_Activity.csv\", index = False)"
   ]
  },
  {
   "cell_type": "markdown",
   "metadata": {},
   "source": [
    "### Last 10 days data"
   ]
  },
  {
   "cell_type": "code",
   "execution_count": 585,
   "metadata": {},
   "outputs": [
    {
     "data": {
      "text/html": [
       "<div>\n",
       "<style scoped>\n",
       "    .dataframe tbody tr th:only-of-type {\n",
       "        vertical-align: middle;\n",
       "    }\n",
       "\n",
       "    .dataframe tbody tr th {\n",
       "        vertical-align: top;\n",
       "    }\n",
       "\n",
       "    .dataframe thead th {\n",
       "        text-align: right;\n",
       "    }\n",
       "</style>\n",
       "<table border=\"1\" class=\"dataframe\">\n",
       "  <thead>\n",
       "    <tr style=\"text-align: right;\">\n",
       "      <th></th>\n",
       "      <th>Paid Info</th>\n",
       "      <th>Date</th>\n",
       "    </tr>\n",
       "  </thead>\n",
       "  <tbody>\n",
       "    <tr>\n",
       "      <th>0</th>\n",
       "      <td>Paid 492.00 using Bank Account XXXXXX5367</td>\n",
       "      <td>2024-02-24</td>\n",
       "    </tr>\n",
       "    <tr>\n",
       "      <th>1</th>\n",
       "      <td>Paid 477.22 to Zomato using Bank Account XXXXX...</td>\n",
       "      <td>2024-02-24</td>\n",
       "    </tr>\n",
       "    <tr>\n",
       "      <th>2</th>\n",
       "      <td>Paid 644.00 using Bank Account XXXXXX5367</td>\n",
       "      <td>2024-02-24</td>\n",
       "    </tr>\n",
       "    <tr>\n",
       "      <th>3</th>\n",
       "      <td>Paid 140.00 to HOTEL SRI RAGHAVENDRA using Ban...</td>\n",
       "      <td>2024-02-24</td>\n",
       "    </tr>\n",
       "    <tr>\n",
       "      <th>4</th>\n",
       "      <td>Paid 40.00 to MUPPARAPU LAVAN using Bank Accou...</td>\n",
       "      <td>2024-02-23</td>\n",
       "    </tr>\n",
       "    <tr>\n",
       "      <th>5</th>\n",
       "      <td>Paid 3572.50 to BOOKMYSHOW using Bank Account ...</td>\n",
       "      <td>2024-02-23</td>\n",
       "    </tr>\n",
       "    <tr>\n",
       "      <th>6</th>\n",
       "      <td>Paid 20.00 to Mr S RAMESH using Bank Account X...</td>\n",
       "      <td>2024-02-23</td>\n",
       "    </tr>\n",
       "    <tr>\n",
       "      <th>7</th>\n",
       "      <td>Paid 100.00 to Mr S RAMESH using Bank Account ...</td>\n",
       "      <td>2024-02-23</td>\n",
       "    </tr>\n",
       "    <tr>\n",
       "      <th>8</th>\n",
       "      <td>Paid 40.00 to VENKATESH K using Bank Account X...</td>\n",
       "      <td>2024-02-22</td>\n",
       "    </tr>\n",
       "    <tr>\n",
       "      <th>9</th>\n",
       "      <td>Paid 815.00 using Bank Account XXXXXX5367</td>\n",
       "      <td>2024-02-22</td>\n",
       "    </tr>\n",
       "    <tr>\n",
       "      <th>10</th>\n",
       "      <td>Paid 15.00 to AMRIT ENTERPRISES using Bank Acc...</td>\n",
       "      <td>2024-02-22</td>\n",
       "    </tr>\n",
       "    <tr>\n",
       "      <th>11</th>\n",
       "      <td>Paid 70.00 to VENKATESH JANGI using Bank Accou...</td>\n",
       "      <td>2024-02-22</td>\n",
       "    </tr>\n",
       "    <tr>\n",
       "      <th>12</th>\n",
       "      <td>Paid 499.00 to Netflix Entertainment Services ...</td>\n",
       "      <td>2024-02-21</td>\n",
       "    </tr>\n",
       "    <tr>\n",
       "      <th>13</th>\n",
       "      <td>Paid 549.00 to UDEMY INDIA LLP COLLECTIONS usi...</td>\n",
       "      <td>2024-02-21</td>\n",
       "    </tr>\n",
       "    <tr>\n",
       "      <th>14</th>\n",
       "      <td>Paid 20.00 to MUPPARAPU LAVAN using Bank Accou...</td>\n",
       "      <td>2024-02-21</td>\n",
       "    </tr>\n",
       "    <tr>\n",
       "      <th>15</th>\n",
       "      <td>Paid 15.00 to AMRIT ENTERPRISES using Bank Acc...</td>\n",
       "      <td>2024-02-21</td>\n",
       "    </tr>\n",
       "    <tr>\n",
       "      <th>16</th>\n",
       "      <td>Paid 149.90 to StockEdge using Bank Account XX...</td>\n",
       "      <td>2024-02-21</td>\n",
       "    </tr>\n",
       "    <tr>\n",
       "      <th>17</th>\n",
       "      <td>Paid 480.00 to Konduri Siva Rama Prasad using ...</td>\n",
       "      <td>2024-02-21</td>\n",
       "    </tr>\n",
       "    <tr>\n",
       "      <th>18</th>\n",
       "      <td>Paid 40.00 to VENKATESH K using Bank Account X...</td>\n",
       "      <td>2024-02-20</td>\n",
       "    </tr>\n",
       "    <tr>\n",
       "      <th>19</th>\n",
       "      <td>Paid 30.00 to AMRIT ENTERPRISES using Bank Acc...</td>\n",
       "      <td>2024-02-20</td>\n",
       "    </tr>\n",
       "    <tr>\n",
       "      <th>20</th>\n",
       "      <td>Paid 40.00 to VENKATESH K using Bank Account ...</td>\n",
       "      <td>2024-02-19</td>\n",
       "    </tr>\n",
       "    <tr>\n",
       "      <th>21</th>\n",
       "      <td>Paid 10.00 to Mupparapu Lavan using Bank Accou...</td>\n",
       "      <td>2024-02-19</td>\n",
       "    </tr>\n",
       "    <tr>\n",
       "      <th>22</th>\n",
       "      <td>Paid 140.00 to VENKATESH JANGI using Bank Acco...</td>\n",
       "      <td>2024-02-19</td>\n",
       "    </tr>\n",
       "    <tr>\n",
       "      <th>23</th>\n",
       "      <td>Paid 65.00 to VENKATESH JANGI using Bank Accou...</td>\n",
       "      <td>2024-02-19</td>\n",
       "    </tr>\n",
       "    <tr>\n",
       "      <th>24</th>\n",
       "      <td>Paid 20.00 to MUPPARAPU LAVAN using Bank Accou...</td>\n",
       "      <td>2024-02-19</td>\n",
       "    </tr>\n",
       "    <tr>\n",
       "      <th>25</th>\n",
       "      <td>Paid 20.00 to Manoj Yadav using Bank Account X...</td>\n",
       "      <td>2024-02-18</td>\n",
       "    </tr>\n",
       "    <tr>\n",
       "      <th>26</th>\n",
       "      <td>Paid 1280.00 to SIVA KUMAR ARAVEETI using Bank...</td>\n",
       "      <td>2024-02-16</td>\n",
       "    </tr>\n",
       "    <tr>\n",
       "      <th>27</th>\n",
       "      <td>Paid 1280.00 to SIVA KUMAR ARAVEETI using Bank...</td>\n",
       "      <td>2024-02-16</td>\n",
       "    </tr>\n",
       "    <tr>\n",
       "      <th>28</th>\n",
       "      <td>Paid 60.00 to Mr S RAMESH using Bank Account X...</td>\n",
       "      <td>2024-02-16</td>\n",
       "    </tr>\n",
       "    <tr>\n",
       "      <th>29</th>\n",
       "      <td>Paid 619.00 using Bank Account XXXXXX5367</td>\n",
       "      <td>2024-02-16</td>\n",
       "    </tr>\n",
       "    <tr>\n",
       "      <th>30</th>\n",
       "      <td>Paid 446.00 to Vanga Indhra Reddy using Bank A...</td>\n",
       "      <td>2024-02-15</td>\n",
       "    </tr>\n",
       "    <tr>\n",
       "      <th>31</th>\n",
       "      <td>Paid 323.20 to APOLLO PHARMACY using Bank Acco...</td>\n",
       "      <td>2024-02-15</td>\n",
       "    </tr>\n",
       "    <tr>\n",
       "      <th>32</th>\n",
       "      <td>Paid 140.00 to VENKATESH JANGI using Bank Acco...</td>\n",
       "      <td>2024-02-15</td>\n",
       "    </tr>\n",
       "  </tbody>\n",
       "</table>\n",
       "</div>"
      ],
      "text/plain": [
       "                                            Paid Info       Date\n",
       "0           Paid 492.00 using Bank Account XXXXXX5367 2024-02-24\n",
       "1   Paid 477.22 to Zomato using Bank Account XXXXX... 2024-02-24\n",
       "2           Paid 644.00 using Bank Account XXXXXX5367 2024-02-24\n",
       "3   Paid 140.00 to HOTEL SRI RAGHAVENDRA using Ban... 2024-02-24\n",
       "4   Paid 40.00 to MUPPARAPU LAVAN using Bank Accou... 2024-02-23\n",
       "5   Paid 3572.50 to BOOKMYSHOW using Bank Account ... 2024-02-23\n",
       "6   Paid 20.00 to Mr S RAMESH using Bank Account X... 2024-02-23\n",
       "7   Paid 100.00 to Mr S RAMESH using Bank Account ... 2024-02-23\n",
       "8   Paid 40.00 to VENKATESH K using Bank Account X... 2024-02-22\n",
       "9           Paid 815.00 using Bank Account XXXXXX5367 2024-02-22\n",
       "10  Paid 15.00 to AMRIT ENTERPRISES using Bank Acc... 2024-02-22\n",
       "11  Paid 70.00 to VENKATESH JANGI using Bank Accou... 2024-02-22\n",
       "12  Paid 499.00 to Netflix Entertainment Services ... 2024-02-21\n",
       "13  Paid 549.00 to UDEMY INDIA LLP COLLECTIONS usi... 2024-02-21\n",
       "14  Paid 20.00 to MUPPARAPU LAVAN using Bank Accou... 2024-02-21\n",
       "15  Paid 15.00 to AMRIT ENTERPRISES using Bank Acc... 2024-02-21\n",
       "16  Paid 149.90 to StockEdge using Bank Account XX... 2024-02-21\n",
       "17  Paid 480.00 to Konduri Siva Rama Prasad using ... 2024-02-21\n",
       "18  Paid 40.00 to VENKATESH K using Bank Account X... 2024-02-20\n",
       "19  Paid 30.00 to AMRIT ENTERPRISES using Bank Acc... 2024-02-20\n",
       "20  \n",
       "Paid 40.00 to VENKATESH K using Bank Account ... 2024-02-19\n",
       "21  Paid 10.00 to Mupparapu Lavan using Bank Accou... 2024-02-19\n",
       "22  Paid 140.00 to VENKATESH JANGI using Bank Acco... 2024-02-19\n",
       "23  Paid 65.00 to VENKATESH JANGI using Bank Accou... 2024-02-19\n",
       "24  Paid 20.00 to MUPPARAPU LAVAN using Bank Accou... 2024-02-19\n",
       "25  Paid 20.00 to Manoj Yadav using Bank Account X... 2024-02-18\n",
       "26  Paid 1280.00 to SIVA KUMAR ARAVEETI using Bank... 2024-02-16\n",
       "27  Paid 1280.00 to SIVA KUMAR ARAVEETI using Bank... 2024-02-16\n",
       "28  Paid 60.00 to Mr S RAMESH using Bank Account X... 2024-02-16\n",
       "29          Paid 619.00 using Bank Account XXXXXX5367 2024-02-16\n",
       "30  Paid 446.00 to Vanga Indhra Reddy using Bank A... 2024-02-15\n",
       "31  Paid 323.20 to APOLLO PHARMACY using Bank Acco... 2024-02-15\n",
       "32  Paid 140.00 to VENKATESH JANGI using Bank Acco... 2024-02-15"
      ]
     },
     "execution_count": 585,
     "metadata": {},
     "output_type": "execute_result"
    }
   ],
   "source": [
    "# Get the last date in the dfframe\n",
    "last_date = activity_df[\"Date\"].max()\n",
    "\n",
    "# Filter the df for the last 10 days\n",
    "last_10_days_df = activity_df[(activity_df[\"Date\"] > (last_date - pd.Timedelta(days = 10))) &\n",
    "                                (activity_df[\"Date\"] <= last_date)]\n",
    "\n",
    "last_10_days_df.reset_index(drop=True, inplace=True)\n",
    "last_10_days_df"
   ]
  },
  {
   "cell_type": "code",
   "execution_count": 586,
   "metadata": {},
   "outputs": [
    {
     "data": {
      "text/plain": [
       "199"
      ]
     },
     "execution_count": 586,
     "metadata": {},
     "output_type": "execute_result"
    }
   ],
   "source": [
    "# Get unique transactions in the Name / Description column\n",
    "unique_transactions = activity_df[\"Paid Info\"].unique()\n",
    "len(unique_transactions)"
   ]
  },
  {
   "cell_type": "code",
   "execution_count": 587,
   "metadata": {},
   "outputs": [],
   "source": [
    "RESPONSE_JSON = {\n",
    "    \"Service Name\": {\n",
    "        \"Category\": \"Category name\",\n",
    "        \"Date\": \"Date of Transaction\",\n",
    "        \"Cost\": \"Transaction amount\",\n",
    "    },\n",
    "    \"Service Name\": {\n",
    "        \"Category\": \"Category name\",\n",
    "        \"Date\": \"Date of Transaction\",\n",
    "        \"Cost\": \"Transaction amount\",\n",
    "    },\n",
    "    \"Service Name\": {\n",
    "        \"Category\": \"Category name\",\n",
    "        \"Date\": \"Date of Transaction\",\n",
    "        \"Cost\": \"Transaction amount\",\n",
    "    },\n",
    "    \"Service Name\": {\n",
    "        \"Category\": \"Category name\",\n",
    "        \"Date\": \"Date of Transaction\",\n",
    "        \"Cost\": \"Transaction amount\",\n",
    "    },\n",
    "    \"Service Name\": {\n",
    "        \"Category\": \"Category name\",\n",
    "        \"Date\": \"Date of Transaction\",\n",
    "        \"Cost\": \"Transaction amount\",\n",
    "    },\n",
    "}"
   ]
  },
  {
   "cell_type": "code",
   "execution_count": 588,
   "metadata": {},
   "outputs": [],
   "source": [
    "TEMPLATE = \"\"\"\n",
    "Paid_Info: {text}\n",
    "Date: {date}\n",
    "Number of Transactions: {Total_Transactions}\n",
    "You are expert Finance Analyzer.\n",
    "There are {Total_Transactions} number of transactions with dates of transaction.\n",
    "Categorize each and every transaction. \n",
    "Note: Create a minimum of 6 categories.\n",
    "Make sure to format the response like response_json below and use it as a guide.\n",
    "{response_json}\n",
    "\"\"\""
   ]
  },
  {
   "cell_type": "code",
   "execution_count": 589,
   "metadata": {},
   "outputs": [],
   "source": [
    "Paid_Info = last_10_days_df[\"Paid Info\"].to_list()\n",
    "Date = last_10_days_df[\"Date\"].to_list()"
   ]
  },
  {
   "cell_type": "code",
   "execution_count": 590,
   "metadata": {},
   "outputs": [],
   "source": [
    "prompt = PromptTemplate(\n",
    "    input_variables = [\"text\", \"date\", \"Total_Transactions\", \"response_json\"], \n",
    "    template = TEMPLATE\n",
    ")"
   ]
  },
  {
   "cell_type": "code",
   "execution_count": 591,
   "metadata": {},
   "outputs": [],
   "source": [
    "chain = LLMChain(llm = llm, prompt = prompt, verbose = True)"
   ]
  },
  {
   "cell_type": "code",
   "execution_count": 592,
   "metadata": {},
   "outputs": [
    {
     "name": "stdout",
     "output_type": "stream",
     "text": [
      "\n",
      "\n",
      "\u001b[1m> Entering new LLMChain chain...\u001b[0m\n",
      "Prompt after formatting:\n",
      "\u001b[32;1m\u001b[1;3m\n",
      "Paid_Info: ['Paid 492.00 using Bank Account XXXXXX5367', 'Paid 477.22 to Zomato using Bank Account XXXXXX5367', 'Paid 644.00 using Bank Account XXXXXX5367', 'Paid 140.00 to HOTEL SRI RAGHAVENDRA using Bank Account XXXXXX5367', 'Paid 40.00 to MUPPARAPU LAVAN using Bank Account XXXXXX5367', 'Paid 3572.50 to BOOKMYSHOW using Bank Account XXXXXX5367', 'Paid 20.00 to Mr S RAMESH using Bank Account XXXXXX5367', 'Paid 100.00 to Mr S RAMESH using Bank Account XXXXXX5367', 'Paid 40.00 to VENKATESH K using Bank Account XXXXXX5367', 'Paid 815.00 using Bank Account XXXXXX5367', 'Paid 15.00 to AMRIT ENTERPRISES using Bank Account XXXXXX5367', 'Paid 70.00 to VENKATESH JANGI using Bank Account XXXXXX5367', 'Paid 499.00 to Netflix Entertainment Services India LLP using Bank Account XXXXXX5367', 'Paid 549.00 to UDEMY INDIA LLP COLLECTIONS using Bank Account XXXXXX5367', 'Paid 20.00 to MUPPARAPU LAVAN using Bank Account XXXXXX5367', 'Paid 15.00 to AMRIT ENTERPRISES using Bank Account XXXXXX5367', 'Paid 149.90 to StockEdge using Bank Account XXXXXX5367', 'Paid 480.00 to Konduri Siva Rama Prasad using Bank Account XXXXXX5367', 'Paid 40.00 to VENKATESH K using Bank Account XXXXXX5367', 'Paid 30.00 to AMRIT ENTERPRISES using Bank Account XXXXXX5367', '\\x0cPaid 40.00 to VENKATESH K using Bank Account XXXXXX5367', 'Paid 10.00 to Mupparapu Lavan using Bank Account XXXXXX5367', 'Paid 140.00 to VENKATESH JANGI using Bank Account XXXXXX5367', 'Paid 65.00 to VENKATESH JANGI using Bank Account XXXXXX5367', 'Paid 20.00 to MUPPARAPU LAVAN using Bank Account XXXXXX5367', 'Paid 20.00 to Manoj Yadav using Bank Account XXXXXX5367', 'Paid 1280.00 to SIVA KUMAR ARAVEETI using Bank Account XXXXXX5367', 'Paid 1280.00 to SIVA KUMAR ARAVEETI using Bank Account XXXXXX5367', 'Paid 60.00 to Mr S RAMESH using Bank Account XXXXXX5367', 'Paid 619.00 using Bank Account XXXXXX5367', 'Paid 446.00 to Vanga Indhra Reddy using Bank Account XXXXXX5367', 'Paid 323.20 to APOLLO PHARMACY using Bank Account XXXXXX5367', 'Paid 140.00 to VENKATESH JANGI using Bank Account XXXXXX5367']\n",
      "Date: [Timestamp('2024-02-24 00:00:00'), Timestamp('2024-02-24 00:00:00'), Timestamp('2024-02-24 00:00:00'), Timestamp('2024-02-24 00:00:00'), Timestamp('2024-02-23 00:00:00'), Timestamp('2024-02-23 00:00:00'), Timestamp('2024-02-23 00:00:00'), Timestamp('2024-02-23 00:00:00'), Timestamp('2024-02-22 00:00:00'), Timestamp('2024-02-22 00:00:00'), Timestamp('2024-02-22 00:00:00'), Timestamp('2024-02-22 00:00:00'), Timestamp('2024-02-21 00:00:00'), Timestamp('2024-02-21 00:00:00'), Timestamp('2024-02-21 00:00:00'), Timestamp('2024-02-21 00:00:00'), Timestamp('2024-02-21 00:00:00'), Timestamp('2024-02-21 00:00:00'), Timestamp('2024-02-20 00:00:00'), Timestamp('2024-02-20 00:00:00'), Timestamp('2024-02-19 00:00:00'), Timestamp('2024-02-19 00:00:00'), Timestamp('2024-02-19 00:00:00'), Timestamp('2024-02-19 00:00:00'), Timestamp('2024-02-19 00:00:00'), Timestamp('2024-02-18 00:00:00'), Timestamp('2024-02-16 00:00:00'), Timestamp('2024-02-16 00:00:00'), Timestamp('2024-02-16 00:00:00'), Timestamp('2024-02-16 00:00:00'), Timestamp('2024-02-15 00:00:00'), Timestamp('2024-02-15 00:00:00'), Timestamp('2024-02-15 00:00:00')]\n",
      "Number of Transactions: 33\n",
      "You are expert Finance Analyzer.\n",
      "There are 33 number of transactions with dates of transaction.\n",
      "Categorize each and every transaction. \n",
      "Note: Create a minimum of 6 categories.\n",
      "Make sure to format the response like response_json below and use it as a guide.\n",
      "{\"Service Name\": {\"Category\": \"Category name\", \"Date\": \"Date of Transaction\", \"Cost\": \"Transaction amount\"}}\n",
      "\u001b[0m\n",
      "\n",
      "\u001b[1m> Finished chain.\u001b[0m\n"
     ]
    }
   ],
   "source": [
    "# How to setup Token Usage Tracking in LangChain\n",
    "with get_openai_callback() as cb:\n",
    "    response = chain(\n",
    "        {\n",
    "            \"text\": Paid_Info,\n",
    "            'date': Date,\n",
    "            \"Total_Transactions\": len(last_10_days_df),\n",
    "            \"response_json\": json.dumps(RESPONSE_JSON)\n",
    "        }\n",
    "    )"
   ]
  },
  {
   "cell_type": "code",
   "execution_count": 593,
   "metadata": {},
   "outputs": [
    {
     "name": "stdout",
     "output_type": "stream",
     "text": [
      "Total Tokens: 1568\n",
      "Prompt Tokens: 1282\n",
      "Completion Tokens: 286\n",
      "Total Cost: 0.002495\n"
     ]
    }
   ],
   "source": [
    "print(f\"Total Tokens: {cb.total_tokens}\")\n",
    "print(f\"Prompt Tokens: {cb.prompt_tokens}\")\n",
    "print(f\"Completion Tokens: {cb.completion_tokens}\")\n",
    "print(f\"Total Cost: {cb.total_cost}\")"
   ]
  },
  {
   "cell_type": "code",
   "execution_count": 594,
   "metadata": {},
   "outputs": [
    {
     "data": {
      "text/plain": [
       "{'text': '{\\n    \"Zomato\": {\\n        \"Category\": \"Food & Dining\",\\n        \"Date\": \"2024-02-24\",\\n        \"Cost\": \"477.22\"\\n    },\\n    \"HOTEL SRI RAGHAVENDRA\": {\\n        \"Category\": \"Accommodation\",\\n        \"Date\": \"2024-02-24\",\\n        \"Cost\": \"140.00\"\\n    },\\n    \"BOOKMYSHOW\": {\\n        \"Category\": \"Entertainment\",\\n        \"Date\": \"2024-02-23\",\\n        \"Cost\": \"3572.50\"\\n    },\\n    \"Netflix Entertainment Services India LLP\": {\\n        \"Category\": \"Entertainment\",\\n        \"Date\": \"2024-02-22\",\\n        \"Cost\": \"499.00\"\\n    },\\n    \"UDEMY INDIA LLP COLLECTIONS\": {\\n        \"Category\": \"Education\",\\n        \"Date\": \"2024-02-22\",\\n        \"Cost\": \"549.00\"\\n    },\\n    \"StockEdge\": {\\n        \"Category\": \"Investment\",\\n        \"Date\": \"2024-02-21\",\\n        \"Cost\": \"149.90\"\\n    },\\n    \"APOLLO PHARMACY\": {\\n        \"Category\": \"Healthcare\",\\n        \"Date\": \"2024-02-15\",\\n        \"Cost\": \"323.20\"\\n    }\\n}',\n",
       " 'date': [Timestamp('2024-02-24 00:00:00'),\n",
       "  Timestamp('2024-02-24 00:00:00'),\n",
       "  Timestamp('2024-02-24 00:00:00'),\n",
       "  Timestamp('2024-02-24 00:00:00'),\n",
       "  Timestamp('2024-02-23 00:00:00'),\n",
       "  Timestamp('2024-02-23 00:00:00'),\n",
       "  Timestamp('2024-02-23 00:00:00'),\n",
       "  Timestamp('2024-02-23 00:00:00'),\n",
       "  Timestamp('2024-02-22 00:00:00'),\n",
       "  Timestamp('2024-02-22 00:00:00'),\n",
       "  Timestamp('2024-02-22 00:00:00'),\n",
       "  Timestamp('2024-02-22 00:00:00'),\n",
       "  Timestamp('2024-02-21 00:00:00'),\n",
       "  Timestamp('2024-02-21 00:00:00'),\n",
       "  Timestamp('2024-02-21 00:00:00'),\n",
       "  Timestamp('2024-02-21 00:00:00'),\n",
       "  Timestamp('2024-02-21 00:00:00'),\n",
       "  Timestamp('2024-02-21 00:00:00'),\n",
       "  Timestamp('2024-02-20 00:00:00'),\n",
       "  Timestamp('2024-02-20 00:00:00'),\n",
       "  Timestamp('2024-02-19 00:00:00'),\n",
       "  Timestamp('2024-02-19 00:00:00'),\n",
       "  Timestamp('2024-02-19 00:00:00'),\n",
       "  Timestamp('2024-02-19 00:00:00'),\n",
       "  Timestamp('2024-02-19 00:00:00'),\n",
       "  Timestamp('2024-02-18 00:00:00'),\n",
       "  Timestamp('2024-02-16 00:00:00'),\n",
       "  Timestamp('2024-02-16 00:00:00'),\n",
       "  Timestamp('2024-02-16 00:00:00'),\n",
       "  Timestamp('2024-02-16 00:00:00'),\n",
       "  Timestamp('2024-02-15 00:00:00'),\n",
       "  Timestamp('2024-02-15 00:00:00'),\n",
       "  Timestamp('2024-02-15 00:00:00')],\n",
       " 'Total_Transactions': 33,\n",
       " 'response_json': '{\"Service Name\": {\"Category\": \"Category name\", \"Date\": \"Date of Transaction\", \"Cost\": \"Transaction amount\"}}'}"
      ]
     },
     "execution_count": 594,
     "metadata": {},
     "output_type": "execute_result"
    }
   ],
   "source": [
    "response"
   ]
  },
  {
   "cell_type": "code",
   "execution_count": 595,
   "metadata": {},
   "outputs": [
    {
     "data": {
      "text/plain": [
       "'{\\n    \"Zomato\": {\\n        \"Category\": \"Food & Dining\",\\n        \"Date\": \"2024-02-24\",\\n        \"Cost\": \"477.22\"\\n    },\\n    \"HOTEL SRI RAGHAVENDRA\": {\\n        \"Category\": \"Accommodation\",\\n        \"Date\": \"2024-02-24\",\\n        \"Cost\": \"140.00\"\\n    },\\n    \"BOOKMYSHOW\": {\\n        \"Category\": \"Entertainment\",\\n        \"Date\": \"2024-02-23\",\\n        \"Cost\": \"3572.50\"\\n    },\\n    \"Netflix Entertainment Services India LLP\": {\\n        \"Category\": \"Entertainment\",\\n        \"Date\": \"2024-02-22\",\\n        \"Cost\": \"499.00\"\\n    },\\n    \"UDEMY INDIA LLP COLLECTIONS\": {\\n        \"Category\": \"Education\",\\n        \"Date\": \"2024-02-22\",\\n        \"Cost\": \"549.00\"\\n    },\\n    \"StockEdge\": {\\n        \"Category\": \"Investment\",\\n        \"Date\": \"2024-02-21\",\\n        \"Cost\": \"149.90\"\\n    },\\n    \"APOLLO PHARMACY\": {\\n        \"Category\": \"Healthcare\",\\n        \"Date\": \"2024-02-15\",\\n        \"Cost\": \"323.20\"\\n    }\\n}'"
      ]
     },
     "execution_count": 595,
     "metadata": {},
     "output_type": "execute_result"
    }
   ],
   "source": [
    "response.get(\"text\")"
   ]
  },
  {
   "cell_type": "code",
   "execution_count": 596,
   "metadata": {},
   "outputs": [
    {
     "data": {
      "text/plain": [
       "{'Zomato': {'Category': 'Food & Dining',\n",
       "  'Date': '2024-02-24',\n",
       "  'Cost': '477.22'},\n",
       " 'HOTEL SRI RAGHAVENDRA': {'Category': 'Accommodation',\n",
       "  'Date': '2024-02-24',\n",
       "  'Cost': '140.00'},\n",
       " 'BOOKMYSHOW': {'Category': 'Entertainment',\n",
       "  'Date': '2024-02-23',\n",
       "  'Cost': '3572.50'},\n",
       " 'Netflix Entertainment Services India LLP': {'Category': 'Entertainment',\n",
       "  'Date': '2024-02-22',\n",
       "  'Cost': '499.00'},\n",
       " 'UDEMY INDIA LLP COLLECTIONS': {'Category': 'Education',\n",
       "  'Date': '2024-02-22',\n",
       "  'Cost': '549.00'},\n",
       " 'StockEdge': {'Category': 'Investment',\n",
       "  'Date': '2024-02-21',\n",
       "  'Cost': '149.90'},\n",
       " 'APOLLO PHARMACY': {'Category': 'Healthcare',\n",
       "  'Date': '2024-02-15',\n",
       "  'Cost': '323.20'}}"
      ]
     },
     "execution_count": 596,
     "metadata": {},
     "output_type": "execute_result"
    }
   ],
   "source": [
    "ok  = response.get(\"text\")\n",
    "ok = json.loads(ok)\n",
    "ok"
   ]
  },
  {
   "cell_type": "code",
   "execution_count": 597,
   "metadata": {},
   "outputs": [
    {
     "data": {
      "text/html": [
       "<div>\n",
       "<style scoped>\n",
       "    .dataframe tbody tr th:only-of-type {\n",
       "        vertical-align: middle;\n",
       "    }\n",
       "\n",
       "    .dataframe tbody tr th {\n",
       "        vertical-align: top;\n",
       "    }\n",
       "\n",
       "    .dataframe thead th {\n",
       "        text-align: right;\n",
       "    }\n",
       "</style>\n",
       "<table border=\"1\" class=\"dataframe\">\n",
       "  <thead>\n",
       "    <tr style=\"text-align: right;\">\n",
       "      <th></th>\n",
       "      <th>Category</th>\n",
       "      <th>Date</th>\n",
       "      <th>Cost</th>\n",
       "    </tr>\n",
       "  </thead>\n",
       "  <tbody>\n",
       "    <tr>\n",
       "      <th>Zomato</th>\n",
       "      <td>Food &amp; Dining</td>\n",
       "      <td>2024-02-24</td>\n",
       "      <td>477.22</td>\n",
       "    </tr>\n",
       "    <tr>\n",
       "      <th>HOTEL SRI RAGHAVENDRA</th>\n",
       "      <td>Accommodation</td>\n",
       "      <td>2024-02-24</td>\n",
       "      <td>140.00</td>\n",
       "    </tr>\n",
       "    <tr>\n",
       "      <th>BOOKMYSHOW</th>\n",
       "      <td>Entertainment</td>\n",
       "      <td>2024-02-23</td>\n",
       "      <td>3572.50</td>\n",
       "    </tr>\n",
       "    <tr>\n",
       "      <th>Netflix Entertainment Services India LLP</th>\n",
       "      <td>Entertainment</td>\n",
       "      <td>2024-02-22</td>\n",
       "      <td>499.00</td>\n",
       "    </tr>\n",
       "    <tr>\n",
       "      <th>UDEMY INDIA LLP COLLECTIONS</th>\n",
       "      <td>Education</td>\n",
       "      <td>2024-02-22</td>\n",
       "      <td>549.00</td>\n",
       "    </tr>\n",
       "    <tr>\n",
       "      <th>StockEdge</th>\n",
       "      <td>Investment</td>\n",
       "      <td>2024-02-21</td>\n",
       "      <td>149.90</td>\n",
       "    </tr>\n",
       "    <tr>\n",
       "      <th>APOLLO PHARMACY</th>\n",
       "      <td>Healthcare</td>\n",
       "      <td>2024-02-15</td>\n",
       "      <td>323.20</td>\n",
       "    </tr>\n",
       "  </tbody>\n",
       "</table>\n",
       "</div>"
      ],
      "text/plain": [
       "                                               Category        Date     Cost\n",
       "Zomato                                    Food & Dining  2024-02-24   477.22\n",
       "HOTEL SRI RAGHAVENDRA                     Accommodation  2024-02-24   140.00\n",
       "BOOKMYSHOW                                Entertainment  2024-02-23  3572.50\n",
       "Netflix Entertainment Services India LLP  Entertainment  2024-02-22   499.00\n",
       "UDEMY INDIA LLP COLLECTIONS                   Education  2024-02-22   549.00\n",
       "StockEdge                                    Investment  2024-02-21   149.90\n",
       "APOLLO PHARMACY                              Healthcare  2024-02-15   323.20"
      ]
     },
     "execution_count": 597,
     "metadata": {},
     "output_type": "execute_result"
    }
   ],
   "source": [
    "df = pd.DataFrame(ok)\n",
    "df = df.T\n",
    "df"
   ]
  },
  {
   "cell_type": "code",
   "execution_count": 598,
   "metadata": {},
   "outputs": [
    {
     "data": {
      "application/vnd.plotly.v1+json": {
       "config": {
        "plotlyServerURL": "https://plot.ly"
       },
       "data": [
        {
         "domain": {
          "x": [
           0,
           1
          ],
          "y": [
           0,
           1
          ]
         },
         "hovertemplate": "Category=%{label}<br>Cost=%{value}<extra></extra>",
         "labels": [
          "Accommodation",
          "Education",
          "Entertainment",
          "Food & Dining",
          "Healthcare",
          "Investment"
         ],
         "legendgroup": "",
         "name": "",
         "showlegend": true,
         "type": "pie",
         "values": [
          "140.00",
          "549.00",
          "3572.50499.00",
          "477.22",
          "323.20",
          "149.90"
         ]
        }
       ],
       "layout": {
        "legend": {
         "tracegroupgap": 0
        },
        "template": {
         "data": {
          "bar": [
           {
            "error_x": {
             "color": "#2a3f5f"
            },
            "error_y": {
             "color": "#2a3f5f"
            },
            "marker": {
             "line": {
              "color": "#E5ECF6",
              "width": 0.5
             },
             "pattern": {
              "fillmode": "overlay",
              "size": 10,
              "solidity": 0.2
             }
            },
            "type": "bar"
           }
          ],
          "barpolar": [
           {
            "marker": {
             "line": {
              "color": "#E5ECF6",
              "width": 0.5
             },
             "pattern": {
              "fillmode": "overlay",
              "size": 10,
              "solidity": 0.2
             }
            },
            "type": "barpolar"
           }
          ],
          "carpet": [
           {
            "aaxis": {
             "endlinecolor": "#2a3f5f",
             "gridcolor": "white",
             "linecolor": "white",
             "minorgridcolor": "white",
             "startlinecolor": "#2a3f5f"
            },
            "baxis": {
             "endlinecolor": "#2a3f5f",
             "gridcolor": "white",
             "linecolor": "white",
             "minorgridcolor": "white",
             "startlinecolor": "#2a3f5f"
            },
            "type": "carpet"
           }
          ],
          "choropleth": [
           {
            "colorbar": {
             "outlinewidth": 0,
             "ticks": ""
            },
            "type": "choropleth"
           }
          ],
          "contour": [
           {
            "colorbar": {
             "outlinewidth": 0,
             "ticks": ""
            },
            "colorscale": [
             [
              0,
              "#0d0887"
             ],
             [
              0.1111111111111111,
              "#46039f"
             ],
             [
              0.2222222222222222,
              "#7201a8"
             ],
             [
              0.3333333333333333,
              "#9c179e"
             ],
             [
              0.4444444444444444,
              "#bd3786"
             ],
             [
              0.5555555555555556,
              "#d8576b"
             ],
             [
              0.6666666666666666,
              "#ed7953"
             ],
             [
              0.7777777777777778,
              "#fb9f3a"
             ],
             [
              0.8888888888888888,
              "#fdca26"
             ],
             [
              1,
              "#f0f921"
             ]
            ],
            "type": "contour"
           }
          ],
          "contourcarpet": [
           {
            "colorbar": {
             "outlinewidth": 0,
             "ticks": ""
            },
            "type": "contourcarpet"
           }
          ],
          "heatmap": [
           {
            "colorbar": {
             "outlinewidth": 0,
             "ticks": ""
            },
            "colorscale": [
             [
              0,
              "#0d0887"
             ],
             [
              0.1111111111111111,
              "#46039f"
             ],
             [
              0.2222222222222222,
              "#7201a8"
             ],
             [
              0.3333333333333333,
              "#9c179e"
             ],
             [
              0.4444444444444444,
              "#bd3786"
             ],
             [
              0.5555555555555556,
              "#d8576b"
             ],
             [
              0.6666666666666666,
              "#ed7953"
             ],
             [
              0.7777777777777778,
              "#fb9f3a"
             ],
             [
              0.8888888888888888,
              "#fdca26"
             ],
             [
              1,
              "#f0f921"
             ]
            ],
            "type": "heatmap"
           }
          ],
          "heatmapgl": [
           {
            "colorbar": {
             "outlinewidth": 0,
             "ticks": ""
            },
            "colorscale": [
             [
              0,
              "#0d0887"
             ],
             [
              0.1111111111111111,
              "#46039f"
             ],
             [
              0.2222222222222222,
              "#7201a8"
             ],
             [
              0.3333333333333333,
              "#9c179e"
             ],
             [
              0.4444444444444444,
              "#bd3786"
             ],
             [
              0.5555555555555556,
              "#d8576b"
             ],
             [
              0.6666666666666666,
              "#ed7953"
             ],
             [
              0.7777777777777778,
              "#fb9f3a"
             ],
             [
              0.8888888888888888,
              "#fdca26"
             ],
             [
              1,
              "#f0f921"
             ]
            ],
            "type": "heatmapgl"
           }
          ],
          "histogram": [
           {
            "marker": {
             "pattern": {
              "fillmode": "overlay",
              "size": 10,
              "solidity": 0.2
             }
            },
            "type": "histogram"
           }
          ],
          "histogram2d": [
           {
            "colorbar": {
             "outlinewidth": 0,
             "ticks": ""
            },
            "colorscale": [
             [
              0,
              "#0d0887"
             ],
             [
              0.1111111111111111,
              "#46039f"
             ],
             [
              0.2222222222222222,
              "#7201a8"
             ],
             [
              0.3333333333333333,
              "#9c179e"
             ],
             [
              0.4444444444444444,
              "#bd3786"
             ],
             [
              0.5555555555555556,
              "#d8576b"
             ],
             [
              0.6666666666666666,
              "#ed7953"
             ],
             [
              0.7777777777777778,
              "#fb9f3a"
             ],
             [
              0.8888888888888888,
              "#fdca26"
             ],
             [
              1,
              "#f0f921"
             ]
            ],
            "type": "histogram2d"
           }
          ],
          "histogram2dcontour": [
           {
            "colorbar": {
             "outlinewidth": 0,
             "ticks": ""
            },
            "colorscale": [
             [
              0,
              "#0d0887"
             ],
             [
              0.1111111111111111,
              "#46039f"
             ],
             [
              0.2222222222222222,
              "#7201a8"
             ],
             [
              0.3333333333333333,
              "#9c179e"
             ],
             [
              0.4444444444444444,
              "#bd3786"
             ],
             [
              0.5555555555555556,
              "#d8576b"
             ],
             [
              0.6666666666666666,
              "#ed7953"
             ],
             [
              0.7777777777777778,
              "#fb9f3a"
             ],
             [
              0.8888888888888888,
              "#fdca26"
             ],
             [
              1,
              "#f0f921"
             ]
            ],
            "type": "histogram2dcontour"
           }
          ],
          "mesh3d": [
           {
            "colorbar": {
             "outlinewidth": 0,
             "ticks": ""
            },
            "type": "mesh3d"
           }
          ],
          "parcoords": [
           {
            "line": {
             "colorbar": {
              "outlinewidth": 0,
              "ticks": ""
             }
            },
            "type": "parcoords"
           }
          ],
          "pie": [
           {
            "automargin": true,
            "type": "pie"
           }
          ],
          "scatter": [
           {
            "fillpattern": {
             "fillmode": "overlay",
             "size": 10,
             "solidity": 0.2
            },
            "type": "scatter"
           }
          ],
          "scatter3d": [
           {
            "line": {
             "colorbar": {
              "outlinewidth": 0,
              "ticks": ""
             }
            },
            "marker": {
             "colorbar": {
              "outlinewidth": 0,
              "ticks": ""
             }
            },
            "type": "scatter3d"
           }
          ],
          "scattercarpet": [
           {
            "marker": {
             "colorbar": {
              "outlinewidth": 0,
              "ticks": ""
             }
            },
            "type": "scattercarpet"
           }
          ],
          "scattergeo": [
           {
            "marker": {
             "colorbar": {
              "outlinewidth": 0,
              "ticks": ""
             }
            },
            "type": "scattergeo"
           }
          ],
          "scattergl": [
           {
            "marker": {
             "colorbar": {
              "outlinewidth": 0,
              "ticks": ""
             }
            },
            "type": "scattergl"
           }
          ],
          "scattermapbox": [
           {
            "marker": {
             "colorbar": {
              "outlinewidth": 0,
              "ticks": ""
             }
            },
            "type": "scattermapbox"
           }
          ],
          "scatterpolar": [
           {
            "marker": {
             "colorbar": {
              "outlinewidth": 0,
              "ticks": ""
             }
            },
            "type": "scatterpolar"
           }
          ],
          "scatterpolargl": [
           {
            "marker": {
             "colorbar": {
              "outlinewidth": 0,
              "ticks": ""
             }
            },
            "type": "scatterpolargl"
           }
          ],
          "scatterternary": [
           {
            "marker": {
             "colorbar": {
              "outlinewidth": 0,
              "ticks": ""
             }
            },
            "type": "scatterternary"
           }
          ],
          "surface": [
           {
            "colorbar": {
             "outlinewidth": 0,
             "ticks": ""
            },
            "colorscale": [
             [
              0,
              "#0d0887"
             ],
             [
              0.1111111111111111,
              "#46039f"
             ],
             [
              0.2222222222222222,
              "#7201a8"
             ],
             [
              0.3333333333333333,
              "#9c179e"
             ],
             [
              0.4444444444444444,
              "#bd3786"
             ],
             [
              0.5555555555555556,
              "#d8576b"
             ],
             [
              0.6666666666666666,
              "#ed7953"
             ],
             [
              0.7777777777777778,
              "#fb9f3a"
             ],
             [
              0.8888888888888888,
              "#fdca26"
             ],
             [
              1,
              "#f0f921"
             ]
            ],
            "type": "surface"
           }
          ],
          "table": [
           {
            "cells": {
             "fill": {
              "color": "#EBF0F8"
             },
             "line": {
              "color": "white"
             }
            },
            "header": {
             "fill": {
              "color": "#C8D4E3"
             },
             "line": {
              "color": "white"
             }
            },
            "type": "table"
           }
          ]
         },
         "layout": {
          "annotationdefaults": {
           "arrowcolor": "#2a3f5f",
           "arrowhead": 0,
           "arrowwidth": 1
          },
          "autotypenumbers": "strict",
          "coloraxis": {
           "colorbar": {
            "outlinewidth": 0,
            "ticks": ""
           }
          },
          "colorscale": {
           "diverging": [
            [
             0,
             "#8e0152"
            ],
            [
             0.1,
             "#c51b7d"
            ],
            [
             0.2,
             "#de77ae"
            ],
            [
             0.3,
             "#f1b6da"
            ],
            [
             0.4,
             "#fde0ef"
            ],
            [
             0.5,
             "#f7f7f7"
            ],
            [
             0.6,
             "#e6f5d0"
            ],
            [
             0.7,
             "#b8e186"
            ],
            [
             0.8,
             "#7fbc41"
            ],
            [
             0.9,
             "#4d9221"
            ],
            [
             1,
             "#276419"
            ]
           ],
           "sequential": [
            [
             0,
             "#0d0887"
            ],
            [
             0.1111111111111111,
             "#46039f"
            ],
            [
             0.2222222222222222,
             "#7201a8"
            ],
            [
             0.3333333333333333,
             "#9c179e"
            ],
            [
             0.4444444444444444,
             "#bd3786"
            ],
            [
             0.5555555555555556,
             "#d8576b"
            ],
            [
             0.6666666666666666,
             "#ed7953"
            ],
            [
             0.7777777777777778,
             "#fb9f3a"
            ],
            [
             0.8888888888888888,
             "#fdca26"
            ],
            [
             1,
             "#f0f921"
            ]
           ],
           "sequentialminus": [
            [
             0,
             "#0d0887"
            ],
            [
             0.1111111111111111,
             "#46039f"
            ],
            [
             0.2222222222222222,
             "#7201a8"
            ],
            [
             0.3333333333333333,
             "#9c179e"
            ],
            [
             0.4444444444444444,
             "#bd3786"
            ],
            [
             0.5555555555555556,
             "#d8576b"
            ],
            [
             0.6666666666666666,
             "#ed7953"
            ],
            [
             0.7777777777777778,
             "#fb9f3a"
            ],
            [
             0.8888888888888888,
             "#fdca26"
            ],
            [
             1,
             "#f0f921"
            ]
           ]
          },
          "colorway": [
           "#636efa",
           "#EF553B",
           "#00cc96",
           "#ab63fa",
           "#FFA15A",
           "#19d3f3",
           "#FF6692",
           "#B6E880",
           "#FF97FF",
           "#FECB52"
          ],
          "font": {
           "color": "#2a3f5f"
          },
          "geo": {
           "bgcolor": "white",
           "lakecolor": "white",
           "landcolor": "#E5ECF6",
           "showlakes": true,
           "showland": true,
           "subunitcolor": "white"
          },
          "hoverlabel": {
           "align": "left"
          },
          "hovermode": "closest",
          "mapbox": {
           "style": "light"
          },
          "paper_bgcolor": "white",
          "plot_bgcolor": "#E5ECF6",
          "polar": {
           "angularaxis": {
            "gridcolor": "white",
            "linecolor": "white",
            "ticks": ""
           },
           "bgcolor": "#E5ECF6",
           "radialaxis": {
            "gridcolor": "white",
            "linecolor": "white",
            "ticks": ""
           }
          },
          "scene": {
           "xaxis": {
            "backgroundcolor": "#E5ECF6",
            "gridcolor": "white",
            "gridwidth": 2,
            "linecolor": "white",
            "showbackground": true,
            "ticks": "",
            "zerolinecolor": "white"
           },
           "yaxis": {
            "backgroundcolor": "#E5ECF6",
            "gridcolor": "white",
            "gridwidth": 2,
            "linecolor": "white",
            "showbackground": true,
            "ticks": "",
            "zerolinecolor": "white"
           },
           "zaxis": {
            "backgroundcolor": "#E5ECF6",
            "gridcolor": "white",
            "gridwidth": 2,
            "linecolor": "white",
            "showbackground": true,
            "ticks": "",
            "zerolinecolor": "white"
           }
          },
          "shapedefaults": {
           "line": {
            "color": "#2a3f5f"
           }
          },
          "ternary": {
           "aaxis": {
            "gridcolor": "white",
            "linecolor": "white",
            "ticks": ""
           },
           "baxis": {
            "gridcolor": "white",
            "linecolor": "white",
            "ticks": ""
           },
           "bgcolor": "#E5ECF6",
           "caxis": {
            "gridcolor": "white",
            "linecolor": "white",
            "ticks": ""
           }
          },
          "title": {
           "x": 0.05
          },
          "xaxis": {
           "automargin": true,
           "gridcolor": "white",
           "linecolor": "white",
           "ticks": "",
           "title": {
            "standoff": 15
           },
           "zerolinecolor": "white",
           "zerolinewidth": 2
          },
          "yaxis": {
           "automargin": true,
           "gridcolor": "white",
           "linecolor": "white",
           "ticks": "",
           "title": {
            "standoff": 15
           },
           "zerolinecolor": "white",
           "zerolinewidth": 2
          }
         }
        },
        "title": {
         "text": "Expense Distribution by Category"
        }
       }
      }
     },
     "metadata": {},
     "output_type": "display_data"
    }
   ],
   "source": [
    "# Group and sum the costs by category\n",
    "category_sum = df.groupby('Category')['Cost'].sum().reset_index()\n",
    "\n",
    "# Create the pie chart\n",
    "fig = px.pie(category_sum, names='Category', values='Cost', title='Expense Distribution by Category')\n",
    "\n",
    "# Show the figure\n",
    "fig.show()"
   ]
  },
  {
   "cell_type": "code",
   "execution_count": 599,
   "metadata": {},
   "outputs": [
    {
     "data": {
      "application/javascript": "(function(root) {\n  function now() {\n    return new Date();\n  }\n\n  var force = true;\n  var py_version = '3.3.2'.replace('rc', '-rc.').replace('.dev', '-dev.');\n  var reloading = false;\n  var Bokeh = root.Bokeh;\n\n  if (typeof (root._bokeh_timeout) === \"undefined\" || force) {\n    root._bokeh_timeout = Date.now() + 5000;\n    root._bokeh_failed_load = false;\n  }\n\n  function run_callbacks() {\n    try {\n      root._bokeh_onload_callbacks.forEach(function(callback) {\n        if (callback != null)\n          callback();\n      });\n    } finally {\n      delete root._bokeh_onload_callbacks;\n    }\n    console.debug(\"Bokeh: all callbacks have finished\");\n  }\n\n  function load_libs(css_urls, js_urls, js_modules, js_exports, callback) {\n    if (css_urls == null) css_urls = [];\n    if (js_urls == null) js_urls = [];\n    if (js_modules == null) js_modules = [];\n    if (js_exports == null) js_exports = {};\n\n    root._bokeh_onload_callbacks.push(callback);\n\n    if (root._bokeh_is_loading > 0) {\n      console.debug(\"Bokeh: BokehJS is being loaded, scheduling callback at\", now());\n      return null;\n    }\n    if (js_urls.length === 0 && js_modules.length === 0 && Object.keys(js_exports).length === 0) {\n      run_callbacks();\n      return null;\n    }\n    if (!reloading) {\n      console.debug(\"Bokeh: BokehJS not loaded, scheduling load and callback at\", now());\n    }\n\n    function on_load() {\n      root._bokeh_is_loading--;\n      if (root._bokeh_is_loading === 0) {\n        console.debug(\"Bokeh: all BokehJS libraries/stylesheets loaded\");\n        run_callbacks()\n      }\n    }\n    window._bokeh_on_load = on_load\n\n    function on_error() {\n      console.error(\"failed to load \" + url);\n    }\n\n    var skip = [];\n    if (window.requirejs) {\n      window.requirejs.config({'packages': {}, 'paths': {'plotly': 'https://cdn.plot.ly/plotly-2.25.2.min', 'jspanel': 'https://cdn.jsdelivr.net/npm/jspanel4@4.12.0/dist/jspanel', 'jspanel-modal': 'https://cdn.jsdelivr.net/npm/jspanel4@4.12.0/dist/extensions/modal/jspanel.modal', 'jspanel-tooltip': 'https://cdn.jsdelivr.net/npm/jspanel4@4.12.0/dist/extensions/tooltip/jspanel.tooltip', 'jspanel-hint': 'https://cdn.jsdelivr.net/npm/jspanel4@4.12.0/dist/extensions/hint/jspanel.hint', 'jspanel-layout': 'https://cdn.jsdelivr.net/npm/jspanel4@4.12.0/dist/extensions/layout/jspanel.layout', 'jspanel-contextmenu': 'https://cdn.jsdelivr.net/npm/jspanel4@4.12.0/dist/extensions/contextmenu/jspanel.contextmenu', 'jspanel-dock': 'https://cdn.jsdelivr.net/npm/jspanel4@4.12.0/dist/extensions/dock/jspanel.dock', 'gridstack': 'https://cdn.jsdelivr.net/npm/gridstack@7.2.3/dist/gridstack-all', 'notyf': 'https://cdn.jsdelivr.net/npm/notyf@3/notyf.min'}, 'shim': {'jspanel': {'exports': 'jsPanel'}, 'gridstack': {'exports': 'GridStack'}}});\n      require([\"plotly\"], function(Plotly) {\n\twindow.Plotly = Plotly\n\ton_load()\n      })\n      require([\"jspanel\"], function(jsPanel) {\n\twindow.jsPanel = jsPanel\n\ton_load()\n      })\n      require([\"jspanel-modal\"], function() {\n\ton_load()\n      })\n      require([\"jspanel-tooltip\"], function() {\n\ton_load()\n      })\n      require([\"jspanel-hint\"], function() {\n\ton_load()\n      })\n      require([\"jspanel-layout\"], function() {\n\ton_load()\n      })\n      require([\"jspanel-contextmenu\"], function() {\n\ton_load()\n      })\n      require([\"jspanel-dock\"], function() {\n\ton_load()\n      })\n      require([\"gridstack\"], function(GridStack) {\n\twindow.GridStack = GridStack\n\ton_load()\n      })\n      require([\"notyf\"], function() {\n\ton_load()\n      })\n      root._bokeh_is_loading = css_urls.length + 10;\n    } else {\n      root._bokeh_is_loading = css_urls.length + js_urls.length + js_modules.length + Object.keys(js_exports).length;\n    }\n\n    var existing_stylesheets = []\n    var links = document.getElementsByTagName('link')\n    for (var i = 0; i < links.length; i++) {\n      var link = links[i]\n      if (link.href != null) {\n\texisting_stylesheets.push(link.href)\n      }\n    }\n    for (var i = 0; i < css_urls.length; i++) {\n      var url = css_urls[i];\n      if (existing_stylesheets.indexOf(url) !== -1) {\n\ton_load()\n\tcontinue;\n      }\n      const element = document.createElement(\"link\");\n      element.onload = on_load;\n      element.onerror = on_error;\n      element.rel = \"stylesheet\";\n      element.type = \"text/css\";\n      element.href = url;\n      console.debug(\"Bokeh: injecting link tag for BokehJS stylesheet: \", url);\n      document.body.appendChild(element);\n    }    if (((window['Plotly'] !== undefined) && (!(window['Plotly'] instanceof HTMLElement))) || window.requirejs) {\n      var urls = ['https://cdn.holoviz.org/panel/1.3.8/dist/bundled/plotlyplot/plotly-2.25.2.min.js'];\n      for (var i = 0; i < urls.length; i++) {\n        skip.push(urls[i])\n      }\n    }    if (((window['jsPanel'] !== undefined) && (!(window['jsPanel'] instanceof HTMLElement))) || window.requirejs) {\n      var urls = ['https://cdn.holoviz.org/panel/1.3.8/dist/bundled/floatpanel/jspanel4@4.12.0/dist/jspanel.js', 'https://cdn.holoviz.org/panel/1.3.8/dist/bundled/floatpanel/jspanel4@4.12.0/dist/extensions/modal/jspanel.modal.js', 'https://cdn.holoviz.org/panel/1.3.8/dist/bundled/floatpanel/jspanel4@4.12.0/dist/extensions/tooltip/jspanel.tooltip.js', 'https://cdn.holoviz.org/panel/1.3.8/dist/bundled/floatpanel/jspanel4@4.12.0/dist/extensions/hint/jspanel.hint.js', 'https://cdn.holoviz.org/panel/1.3.8/dist/bundled/floatpanel/jspanel4@4.12.0/dist/extensions/layout/jspanel.layout.js', 'https://cdn.holoviz.org/panel/1.3.8/dist/bundled/floatpanel/jspanel4@4.12.0/dist/extensions/contextmenu/jspanel.contextmenu.js', 'https://cdn.holoviz.org/panel/1.3.8/dist/bundled/floatpanel/jspanel4@4.12.0/dist/extensions/dock/jspanel.dock.js'];\n      for (var i = 0; i < urls.length; i++) {\n        skip.push(urls[i])\n      }\n    }    if (((window['GridStack'] !== undefined) && (!(window['GridStack'] instanceof HTMLElement))) || window.requirejs) {\n      var urls = ['https://cdn.holoviz.org/panel/1.3.8/dist/bundled/gridstack/gridstack@7.2.3/dist/gridstack-all.js'];\n      for (var i = 0; i < urls.length; i++) {\n        skip.push(urls[i])\n      }\n    }    if (((window['Notyf'] !== undefined) && (!(window['Notyf'] instanceof HTMLElement))) || window.requirejs) {\n      var urls = ['https://cdn.holoviz.org/panel/1.3.8/dist/bundled/notificationarea/notyf@3/notyf.min.js'];\n      for (var i = 0; i < urls.length; i++) {\n        skip.push(urls[i])\n      }\n    }    var existing_scripts = []\n    var scripts = document.getElementsByTagName('script')\n    for (var i = 0; i < scripts.length; i++) {\n      var script = scripts[i]\n      if (script.src != null) {\n\texisting_scripts.push(script.src)\n      }\n    }\n    for (var i = 0; i < js_urls.length; i++) {\n      var url = js_urls[i];\n      if (skip.indexOf(url) !== -1 || existing_scripts.indexOf(url) !== -1) {\n\tif (!window.requirejs) {\n\t  on_load();\n\t}\n\tcontinue;\n      }\n      var element = document.createElement('script');\n      element.onload = on_load;\n      element.onerror = on_error;\n      element.async = false;\n      element.src = url;\n      console.debug(\"Bokeh: injecting script tag for BokehJS library: \", url);\n      document.head.appendChild(element);\n    }\n    for (var i = 0; i < js_modules.length; i++) {\n      var url = js_modules[i];\n      if (skip.indexOf(url) !== -1 || existing_scripts.indexOf(url) !== -1) {\n\tif (!window.requirejs) {\n\t  on_load();\n\t}\n\tcontinue;\n      }\n      var element = document.createElement('script');\n      element.onload = on_load;\n      element.onerror = on_error;\n      element.async = false;\n      element.src = url;\n      element.type = \"module\";\n      console.debug(\"Bokeh: injecting script tag for BokehJS library: \", url);\n      document.head.appendChild(element);\n    }\n    for (const name in js_exports) {\n      var url = js_exports[name];\n      if (skip.indexOf(url) >= 0 || root[name] != null) {\n\tif (!window.requirejs) {\n\t  on_load();\n\t}\n\tcontinue;\n      }\n      var element = document.createElement('script');\n      element.onerror = on_error;\n      element.async = false;\n      element.type = \"module\";\n      console.debug(\"Bokeh: injecting script tag for BokehJS library: \", url);\n      element.textContent = `\n      import ${name} from \"${url}\"\n      window.${name} = ${name}\n      window._bokeh_on_load()\n      `\n      document.head.appendChild(element);\n    }\n    if (!js_urls.length && !js_modules.length) {\n      on_load()\n    }\n  };\n\n  function inject_raw_css(css) {\n    const element = document.createElement(\"style\");\n    element.appendChild(document.createTextNode(css));\n    document.body.appendChild(element);\n  }\n\n  var js_urls = [\"https://cdn.holoviz.org/panel/1.3.8/dist/bundled/jquery/jquery.slim.min.js\", \"https://cdn.holoviz.org/panel/1.3.8/dist/bundled/plotlyplot/plotly-2.25.2.min.js\", \"https://cdn.bokeh.org/bokeh/release/bokeh-3.3.2.min.js\", \"https://cdn.bokeh.org/bokeh/release/bokeh-gl-3.3.2.min.js\", \"https://cdn.bokeh.org/bokeh/release/bokeh-widgets-3.3.2.min.js\", \"https://cdn.bokeh.org/bokeh/release/bokeh-tables-3.3.2.min.js\", \"https://cdn.holoviz.org/panel/1.3.8/dist/panel.min.js\"];\n  var js_modules = [];\n  var js_exports = {};\n  var css_urls = [];\n  var inline_js = [    function(Bokeh) {\n      Bokeh.set_log_level(\"info\");\n    },\nfunction(Bokeh) {} // ensure no trailing comma for IE\n  ];\n\n  function run_inline_js() {\n    if ((root.Bokeh !== undefined) || (force === true)) {\n      for (var i = 0; i < inline_js.length; i++) {\n\ttry {\n          inline_js[i].call(root, root.Bokeh);\n\t} catch(e) {\n\t  if (!reloading) {\n\t    throw e;\n\t  }\n\t}\n      }\n      // Cache old bokeh versions\n      if (Bokeh != undefined && !reloading) {\n\tvar NewBokeh = root.Bokeh;\n\tif (Bokeh.versions === undefined) {\n\t  Bokeh.versions = new Map();\n\t}\n\tif (NewBokeh.version !== Bokeh.version) {\n\t  Bokeh.versions.set(NewBokeh.version, NewBokeh)\n\t}\n\troot.Bokeh = Bokeh;\n      }} else if (Date.now() < root._bokeh_timeout) {\n      setTimeout(run_inline_js, 100);\n    } else if (!root._bokeh_failed_load) {\n      console.log(\"Bokeh: BokehJS failed to load within specified timeout.\");\n      root._bokeh_failed_load = true;\n    }\n    root._bokeh_is_initializing = false\n  }\n\n  function load_or_wait() {\n    // Implement a backoff loop that tries to ensure we do not load multiple\n    // versions of Bokeh and its dependencies at the same time.\n    // In recent versions we use the root._bokeh_is_initializing flag\n    // to determine whether there is an ongoing attempt to initialize\n    // bokeh, however for backward compatibility we also try to ensure\n    // that we do not start loading a newer (Panel>=1.0 and Bokeh>3) version\n    // before older versions are fully initialized.\n    if (root._bokeh_is_initializing && Date.now() > root._bokeh_timeout) {\n      root._bokeh_is_initializing = false;\n      root._bokeh_onload_callbacks = undefined;\n      console.log(\"Bokeh: BokehJS was loaded multiple times but one version failed to initialize.\");\n      load_or_wait();\n    } else if (root._bokeh_is_initializing || (typeof root._bokeh_is_initializing === \"undefined\" && root._bokeh_onload_callbacks !== undefined)) {\n      setTimeout(load_or_wait, 100);\n    } else {\n      root._bokeh_is_initializing = true\n      root._bokeh_onload_callbacks = []\n      var bokeh_loaded = Bokeh != null && (Bokeh.version === py_version || (Bokeh.versions !== undefined && Bokeh.versions.has(py_version)));\n      if (!reloading && !bokeh_loaded) {\n\troot.Bokeh = undefined;\n      }\n      load_libs(css_urls, js_urls, js_modules, js_exports, function() {\n\tconsole.debug(\"Bokeh: BokehJS plotting callback run at\", now());\n\trun_inline_js();\n      });\n    }\n  }\n  // Give older versions of the autoload script a head-start to ensure\n  // they initialize before we start loading newer version.\n  setTimeout(load_or_wait, 100)\n}(window));",
      "application/vnd.holoviews_load.v0+json": ""
     },
     "metadata": {},
     "output_type": "display_data"
    },
    {
     "data": {
      "application/javascript": "\nif ((window.PyViz === undefined) || (window.PyViz instanceof HTMLElement)) {\n  window.PyViz = {comms: {}, comm_status:{}, kernels:{}, receivers: {}, plot_index: []}\n}\n\n\n    function JupyterCommManager() {\n    }\n\n    JupyterCommManager.prototype.register_target = function(plot_id, comm_id, msg_handler) {\n      if (window.comm_manager || ((window.Jupyter !== undefined) && (Jupyter.notebook.kernel != null))) {\n        var comm_manager = window.comm_manager || Jupyter.notebook.kernel.comm_manager;\n        comm_manager.register_target(comm_id, function(comm) {\n          comm.on_msg(msg_handler);\n        });\n      } else if ((plot_id in window.PyViz.kernels) && (window.PyViz.kernels[plot_id])) {\n        window.PyViz.kernels[plot_id].registerCommTarget(comm_id, function(comm) {\n          comm.onMsg = msg_handler;\n        });\n      } else if (typeof google != 'undefined' && google.colab.kernel != null) {\n        google.colab.kernel.comms.registerTarget(comm_id, (comm) => {\n          var messages = comm.messages[Symbol.asyncIterator]();\n          function processIteratorResult(result) {\n            var message = result.value;\n            console.log(message)\n            var content = {data: message.data, comm_id};\n            var buffers = []\n            for (var buffer of message.buffers || []) {\n              buffers.push(new DataView(buffer))\n            }\n            var metadata = message.metadata || {};\n            var msg = {content, buffers, metadata}\n            msg_handler(msg);\n            return messages.next().then(processIteratorResult);\n          }\n          return messages.next().then(processIteratorResult);\n        })\n      }\n    }\n\n    JupyterCommManager.prototype.get_client_comm = function(plot_id, comm_id, msg_handler) {\n      if (comm_id in window.PyViz.comms) {\n        return window.PyViz.comms[comm_id];\n      } else if (window.comm_manager || ((window.Jupyter !== undefined) && (Jupyter.notebook.kernel != null))) {\n        var comm_manager = window.comm_manager || Jupyter.notebook.kernel.comm_manager;\n        var comm = comm_manager.new_comm(comm_id, {}, {}, {}, comm_id);\n        if (msg_handler) {\n          comm.on_msg(msg_handler);\n        }\n      } else if ((plot_id in window.PyViz.kernels) && (window.PyViz.kernels[plot_id])) {\n        var comm = window.PyViz.kernels[plot_id].connectToComm(comm_id);\n        comm.open();\n        if (msg_handler) {\n          comm.onMsg = msg_handler;\n        }\n      } else if (typeof google != 'undefined' && google.colab.kernel != null) {\n        var comm_promise = google.colab.kernel.comms.open(comm_id)\n        comm_promise.then((comm) => {\n          window.PyViz.comms[comm_id] = comm;\n          if (msg_handler) {\n            var messages = comm.messages[Symbol.asyncIterator]();\n            function processIteratorResult(result) {\n              var message = result.value;\n              var content = {data: message.data};\n              var metadata = message.metadata || {comm_id};\n              var msg = {content, metadata}\n              msg_handler(msg);\n              return messages.next().then(processIteratorResult);\n            }\n            return messages.next().then(processIteratorResult);\n          }\n        }) \n        var sendClosure = (data, metadata, buffers, disposeOnDone) => {\n          return comm_promise.then((comm) => {\n            comm.send(data, metadata, buffers, disposeOnDone);\n          });\n        };\n        var comm = {\n          send: sendClosure\n        };\n      }\n      window.PyViz.comms[comm_id] = comm;\n      return comm;\n    }\n    window.PyViz.comm_manager = new JupyterCommManager();\n    \n\n\nvar JS_MIME_TYPE = 'application/javascript';\nvar HTML_MIME_TYPE = 'text/html';\nvar EXEC_MIME_TYPE = 'application/vnd.holoviews_exec.v0+json';\nvar CLASS_NAME = 'output';\n\n/**\n * Render data to the DOM node\n */\nfunction render(props, node) {\n  var div = document.createElement(\"div\");\n  var script = document.createElement(\"script\");\n  node.appendChild(div);\n  node.appendChild(script);\n}\n\n/**\n * Handle when a new output is added\n */\nfunction handle_add_output(event, handle) {\n  var output_area = handle.output_area;\n  var output = handle.output;\n  if ((output.data == undefined) || (!output.data.hasOwnProperty(EXEC_MIME_TYPE))) {\n    return\n  }\n  var id = output.metadata[EXEC_MIME_TYPE][\"id\"];\n  var toinsert = output_area.element.find(\".\" + CLASS_NAME.split(' ')[0]);\n  if (id !== undefined) {\n    var nchildren = toinsert.length;\n    var html_node = toinsert[nchildren-1].children[0];\n    html_node.innerHTML = output.data[HTML_MIME_TYPE];\n    var scripts = [];\n    var nodelist = html_node.querySelectorAll(\"script\");\n    for (var i in nodelist) {\n      if (nodelist.hasOwnProperty(i)) {\n        scripts.push(nodelist[i])\n      }\n    }\n\n    scripts.forEach( function (oldScript) {\n      var newScript = document.createElement(\"script\");\n      var attrs = [];\n      var nodemap = oldScript.attributes;\n      for (var j in nodemap) {\n        if (nodemap.hasOwnProperty(j)) {\n          attrs.push(nodemap[j])\n        }\n      }\n      attrs.forEach(function(attr) { newScript.setAttribute(attr.name, attr.value) });\n      newScript.appendChild(document.createTextNode(oldScript.innerHTML));\n      oldScript.parentNode.replaceChild(newScript, oldScript);\n    });\n    if (JS_MIME_TYPE in output.data) {\n      toinsert[nchildren-1].children[1].textContent = output.data[JS_MIME_TYPE];\n    }\n    output_area._hv_plot_id = id;\n    if ((window.Bokeh !== undefined) && (id in Bokeh.index)) {\n      window.PyViz.plot_index[id] = Bokeh.index[id];\n    } else {\n      window.PyViz.plot_index[id] = null;\n    }\n  } else if (output.metadata[EXEC_MIME_TYPE][\"server_id\"] !== undefined) {\n    var bk_div = document.createElement(\"div\");\n    bk_div.innerHTML = output.data[HTML_MIME_TYPE];\n    var script_attrs = bk_div.children[0].attributes;\n    for (var i = 0; i < script_attrs.length; i++) {\n      toinsert[toinsert.length - 1].childNodes[1].setAttribute(script_attrs[i].name, script_attrs[i].value);\n    }\n    // store reference to server id on output_area\n    output_area._bokeh_server_id = output.metadata[EXEC_MIME_TYPE][\"server_id\"];\n  }\n}\n\n/**\n * Handle when an output is cleared or removed\n */\nfunction handle_clear_output(event, handle) {\n  var id = handle.cell.output_area._hv_plot_id;\n  var server_id = handle.cell.output_area._bokeh_server_id;\n  if (((id === undefined) || !(id in PyViz.plot_index)) && (server_id !== undefined)) { return; }\n  var comm = window.PyViz.comm_manager.get_client_comm(\"hv-extension-comm\", \"hv-extension-comm\", function () {});\n  if (server_id !== null) {\n    comm.send({event_type: 'server_delete', 'id': server_id});\n    return;\n  } else if (comm !== null) {\n    comm.send({event_type: 'delete', 'id': id});\n  }\n  delete PyViz.plot_index[id];\n  if ((window.Bokeh !== undefined) & (id in window.Bokeh.index)) {\n    var doc = window.Bokeh.index[id].model.document\n    doc.clear();\n    const i = window.Bokeh.documents.indexOf(doc);\n    if (i > -1) {\n      window.Bokeh.documents.splice(i, 1);\n    }\n  }\n}\n\n/**\n * Handle kernel restart event\n */\nfunction handle_kernel_cleanup(event, handle) {\n  delete PyViz.comms[\"hv-extension-comm\"];\n  window.PyViz.plot_index = {}\n}\n\n/**\n * Handle update_display_data messages\n */\nfunction handle_update_output(event, handle) {\n  handle_clear_output(event, {cell: {output_area: handle.output_area}})\n  handle_add_output(event, handle)\n}\n\nfunction register_renderer(events, OutputArea) {\n  function append_mime(data, metadata, element) {\n    // create a DOM node to render to\n    var toinsert = this.create_output_subarea(\n    metadata,\n    CLASS_NAME,\n    EXEC_MIME_TYPE\n    );\n    this.keyboard_manager.register_events(toinsert);\n    // Render to node\n    var props = {data: data, metadata: metadata[EXEC_MIME_TYPE]};\n    render(props, toinsert[0]);\n    element.append(toinsert);\n    return toinsert\n  }\n\n  events.on('output_added.OutputArea', handle_add_output);\n  events.on('output_updated.OutputArea', handle_update_output);\n  events.on('clear_output.CodeCell', handle_clear_output);\n  events.on('delete.Cell', handle_clear_output);\n  events.on('kernel_ready.Kernel', handle_kernel_cleanup);\n\n  OutputArea.prototype.register_mime_type(EXEC_MIME_TYPE, append_mime, {\n    safe: true,\n    index: 0\n  });\n}\n\nif (window.Jupyter !== undefined) {\n  try {\n    var events = require('base/js/events');\n    var OutputArea = require('notebook/js/outputarea').OutputArea;\n    if (OutputArea.prototype.mime_types().indexOf(EXEC_MIME_TYPE) == -1) {\n      register_renderer(events, OutputArea);\n    }\n  } catch(err) {\n  }\n}\n",
      "application/vnd.holoviews_load.v0+json": ""
     },
     "metadata": {},
     "output_type": "display_data"
    },
    {
     "data": {
      "text/html": [
       "<style>*[data-root-id],\n",
       "*[data-root-id] > * {\n",
       "  box-sizing: border-box;\n",
       "  font-family: var(--jp-ui-font-family);\n",
       "  font-size: var(--jp-ui-font-size1);\n",
       "  color: var(--vscode-editor-foreground, var(--jp-ui-font-color1));\n",
       "}\n",
       "\n",
       "/* Override VSCode background color */\n",
       ".cell-output-ipywidget-background:has(\n",
       "    > .cell-output-ipywidget-background > .lm-Widget > *[data-root-id]\n",
       "  ),\n",
       ".cell-output-ipywidget-background:has(> .lm-Widget > *[data-root-id]) {\n",
       "  background-color: transparent !important;\n",
       "}\n",
       "</style>"
      ]
     },
     "metadata": {},
     "output_type": "display_data"
    },
    {
     "data": {
      "application/vnd.holoviews_exec.v0+json": "",
      "text/html": [
       "<div id='ae88150b-6bd5-470b-8b1a-21f72b2b215b'>\n",
       "  <div id=\"d78daa42-ec77-45a8-8ba0-bb6d1199c150\" data-root-id=\"ae88150b-6bd5-470b-8b1a-21f72b2b215b\" style=\"display: contents;\"></div>\n",
       "</div>\n",
       "<script type=\"application/javascript\">(function(root) {\n",
       "  var docs_json = {\"b402761c-db29-4f76-bf66-670b217dfda6\":{\"version\":\"3.3.2\",\"title\":\"Bokeh Application\",\"roots\":[{\"type\":\"object\",\"name\":\"panel.models.browser.BrowserInfo\",\"id\":\"ae88150b-6bd5-470b-8b1a-21f72b2b215b\"},{\"type\":\"object\",\"name\":\"panel.models.comm_manager.CommManager\",\"id\":\"b73a1380-eae0-4cea-b5d5-7b18b65c20f3\",\"attributes\":{\"plot_id\":\"ae88150b-6bd5-470b-8b1a-21f72b2b215b\",\"comm_id\":\"ce5e7a57920d474eb0b1541cfa37f781\",\"client_comm_id\":\"9976f4bd2dd74cf58ca83ca165cc8379\"}}],\"defs\":[{\"type\":\"model\",\"name\":\"ReactiveHTML1\"},{\"type\":\"model\",\"name\":\"FlexBox1\",\"properties\":[{\"name\":\"align_content\",\"kind\":\"Any\",\"default\":\"flex-start\"},{\"name\":\"align_items\",\"kind\":\"Any\",\"default\":\"flex-start\"},{\"name\":\"flex_direction\",\"kind\":\"Any\",\"default\":\"row\"},{\"name\":\"flex_wrap\",\"kind\":\"Any\",\"default\":\"wrap\"},{\"name\":\"justify_content\",\"kind\":\"Any\",\"default\":\"flex-start\"}]},{\"type\":\"model\",\"name\":\"FloatPanel1\",\"properties\":[{\"name\":\"config\",\"kind\":\"Any\",\"default\":{\"type\":\"map\"}},{\"name\":\"contained\",\"kind\":\"Any\",\"default\":true},{\"name\":\"position\",\"kind\":\"Any\",\"default\":\"right-top\"},{\"name\":\"offsetx\",\"kind\":\"Any\",\"default\":null},{\"name\":\"offsety\",\"kind\":\"Any\",\"default\":null},{\"name\":\"theme\",\"kind\":\"Any\",\"default\":\"primary\"},{\"name\":\"status\",\"kind\":\"Any\",\"default\":\"normalized\"}]},{\"type\":\"model\",\"name\":\"GridStack1\",\"properties\":[{\"name\":\"mode\",\"kind\":\"Any\",\"default\":\"warn\"},{\"name\":\"ncols\",\"kind\":\"Any\",\"default\":null},{\"name\":\"nrows\",\"kind\":\"Any\",\"default\":null},{\"name\":\"allow_resize\",\"kind\":\"Any\",\"default\":true},{\"name\":\"allow_drag\",\"kind\":\"Any\",\"default\":true},{\"name\":\"state\",\"kind\":\"Any\",\"default\":[]}]},{\"type\":\"model\",\"name\":\"drag1\",\"properties\":[{\"name\":\"slider_width\",\"kind\":\"Any\",\"default\":5},{\"name\":\"slider_color\",\"kind\":\"Any\",\"default\":\"black\"},{\"name\":\"value\",\"kind\":\"Any\",\"default\":50}]},{\"type\":\"model\",\"name\":\"click1\",\"properties\":[{\"name\":\"terminal_output\",\"kind\":\"Any\",\"default\":\"\"},{\"name\":\"debug_name\",\"kind\":\"Any\",\"default\":\"\"},{\"name\":\"clears\",\"kind\":\"Any\",\"default\":0}]},{\"type\":\"model\",\"name\":\"copy_to_clipboard1\",\"properties\":[{\"name\":\"fill\",\"kind\":\"Any\",\"default\":\"none\"},{\"name\":\"value\",\"kind\":\"Any\",\"default\":null}]},{\"type\":\"model\",\"name\":\"FastWrapper1\",\"properties\":[{\"name\":\"object\",\"kind\":\"Any\",\"default\":null},{\"name\":\"style\",\"kind\":\"Any\",\"default\":null}]},{\"type\":\"model\",\"name\":\"NotificationAreaBase1\",\"properties\":[{\"name\":\"js_events\",\"kind\":\"Any\",\"default\":{\"type\":\"map\"}},{\"name\":\"position\",\"kind\":\"Any\",\"default\":\"bottom-right\"},{\"name\":\"_clear\",\"kind\":\"Any\",\"default\":0}]},{\"type\":\"model\",\"name\":\"NotificationArea1\",\"properties\":[{\"name\":\"js_events\",\"kind\":\"Any\",\"default\":{\"type\":\"map\"}},{\"name\":\"notifications\",\"kind\":\"Any\",\"default\":[]},{\"name\":\"position\",\"kind\":\"Any\",\"default\":\"bottom-right\"},{\"name\":\"_clear\",\"kind\":\"Any\",\"default\":0},{\"name\":\"types\",\"kind\":\"Any\",\"default\":[{\"type\":\"map\",\"entries\":[[\"type\",\"warning\"],[\"background\",\"#ffc107\"],[\"icon\",{\"type\":\"map\",\"entries\":[[\"className\",\"fas fa-exclamation-triangle\"],[\"tagName\",\"i\"],[\"color\",\"white\"]]}]]},{\"type\":\"map\",\"entries\":[[\"type\",\"info\"],[\"background\",\"#007bff\"],[\"icon\",{\"type\":\"map\",\"entries\":[[\"className\",\"fas fa-info-circle\"],[\"tagName\",\"i\"],[\"color\",\"white\"]]}]]}]}]},{\"type\":\"model\",\"name\":\"Notification\",\"properties\":[{\"name\":\"background\",\"kind\":\"Any\",\"default\":null},{\"name\":\"duration\",\"kind\":\"Any\",\"default\":3000},{\"name\":\"icon\",\"kind\":\"Any\",\"default\":null},{\"name\":\"message\",\"kind\":\"Any\",\"default\":\"\"},{\"name\":\"notification_type\",\"kind\":\"Any\",\"default\":null},{\"name\":\"_destroyed\",\"kind\":\"Any\",\"default\":false}]},{\"type\":\"model\",\"name\":\"TemplateActions1\",\"properties\":[{\"name\":\"open_modal\",\"kind\":\"Any\",\"default\":0},{\"name\":\"close_modal\",\"kind\":\"Any\",\"default\":0}]},{\"type\":\"model\",\"name\":\"BootstrapTemplateActions1\",\"properties\":[{\"name\":\"open_modal\",\"kind\":\"Any\",\"default\":0},{\"name\":\"close_modal\",\"kind\":\"Any\",\"default\":0}]},{\"type\":\"model\",\"name\":\"MaterialTemplateActions1\",\"properties\":[{\"name\":\"open_modal\",\"kind\":\"Any\",\"default\":0},{\"name\":\"close_modal\",\"kind\":\"Any\",\"default\":0}]}]}};\n",
       "  var render_items = [{\"docid\":\"b402761c-db29-4f76-bf66-670b217dfda6\",\"roots\":{\"ae88150b-6bd5-470b-8b1a-21f72b2b215b\":\"d78daa42-ec77-45a8-8ba0-bb6d1199c150\"},\"root_ids\":[\"ae88150b-6bd5-470b-8b1a-21f72b2b215b\"]}];\n",
       "  var docs = Object.values(docs_json)\n",
       "  if (!docs) {\n",
       "    return\n",
       "  }\n",
       "  const py_version = docs[0].version.replace('rc', '-rc.').replace('.dev', '-dev.')\n",
       "  function embed_document(root) {\n",
       "    var Bokeh = get_bokeh(root)\n",
       "    Bokeh.embed.embed_items_notebook(docs_json, render_items);\n",
       "    for (const render_item of render_items) {\n",
       "      for (const root_id of render_item.root_ids) {\n",
       "\tconst id_el = document.getElementById(root_id)\n",
       "\tif (id_el.children.length && (id_el.children[0].className === 'bk-root')) {\n",
       "\t  const root_el = id_el.children[0]\n",
       "\t  root_el.id = root_el.id + '-rendered'\n",
       "\t}\n",
       "      }\n",
       "    }\n",
       "  }\n",
       "  function get_bokeh(root) {\n",
       "    if (root.Bokeh === undefined) {\n",
       "      return null\n",
       "    } else if (root.Bokeh.version !== py_version) {\n",
       "      if (root.Bokeh.versions === undefined || !root.Bokeh.versions.has(py_version)) {\n",
       "\treturn null\n",
       "      }\n",
       "      return root.Bokeh.versions.get(py_version);\n",
       "    } else if (root.Bokeh.version === py_version) {\n",
       "      return root.Bokeh\n",
       "    }\n",
       "    return null\n",
       "  }\n",
       "  function is_loaded(root) {\n",
       "    var Bokeh = get_bokeh(root)\n",
       "    return (Bokeh != null && Bokeh.Panel !== undefined && ( root['Plotly'] !== undefined) && ( root['Plotly'] !== undefined) && ( root['Plotly'] !== undefined) && ( root['Plotly'] !== undefined) && ( root['Plotly'] !== undefined) && ( root['Plotly'] !== undefined) && ( root['Plotly'] !== undefined) && ( root['Plotly'] !== undefined) && ( root['Plotly'] !== undefined) && ( root['Plotly'] !== undefined) && ( root['Plotly'] !== undefined) && ( root['Plotly'] !== undefined) && ( root['Plotly'] !== undefined) && ( root['Plotly'] !== undefined) && ( root['Plotly'] !== undefined) && ( root['Plotly'] !== undefined))\n",
       "  }\n",
       "  if (is_loaded(root)) {\n",
       "    embed_document(root);\n",
       "  } else {\n",
       "    var attempts = 0;\n",
       "    var timer = setInterval(function(root) {\n",
       "      if (is_loaded(root)) {\n",
       "        clearInterval(timer);\n",
       "        embed_document(root);\n",
       "      } else if (document.readyState == \"complete\") {\n",
       "        attempts++;\n",
       "        if (attempts > 200) {\n",
       "          clearInterval(timer);\n",
       "\t  var Bokeh = get_bokeh(root)\n",
       "\t  if (Bokeh == null || Bokeh.Panel == null) {\n",
       "            console.warn(\"Panel: ERROR: Unable to run Panel code because Bokeh or Panel library is missing\");\n",
       "\t  } else {\n",
       "\t    console.warn(\"Panel: WARNING: Attempting to render but not all required libraries could be resolved.\")\n",
       "\t    embed_document(root)\n",
       "\t  }\n",
       "        }\n",
       "      }\n",
       "    }, 25, root)\n",
       "  }\n",
       "})(window);</script>"
      ]
     },
     "metadata": {
      "application/vnd.holoviews_exec.v0+json": {
       "id": "ae88150b-6bd5-470b-8b1a-21f72b2b215b"
      }
     },
     "output_type": "display_data"
    },
    {
     "data": {
      "application/vnd.jupyter.widget-view+json": {
       "model_id": "810dbd4d42134b75bc3374af55285db5",
       "version_major": 2,
       "version_minor": 0
      },
      "text/plain": [
       "BokehModel(combine_events=True, render_bundle={'docs_json': {'9c4a800c-e733-47d6-a837-f8beabcb4ed0': {'version…"
      ]
     },
     "execution_count": 599,
     "metadata": {},
     "output_type": "execute_result"
    }
   ],
   "source": [
    "df['Date'] = pd.to_datetime(df['Date']).dt.date\n",
    "df['Cost'] = pd.to_numeric(df['Cost'], errors='coerce')\n",
    "\n",
    "# Summing the costs for each day\n",
    "daily_total_cost = df.groupby('Date')['Cost'].sum().reset_index()\n",
    "\n",
    "# Creating the bar plot with the cleaned df\n",
    "daily_total_cost_cleaned_plot = px.bar(daily_total_cost, x='Date', y='Cost', \n",
    "                                    title='Total Daily Expenses',\n",
    "                                    labels={'Cost': 'Total Cost'})\n",
    "\n",
    "\n",
    "# Ensure the Date column is in datetime format\n",
    "df['Date'] = pd.to_datetime(df['Date'])\n",
    "\n",
    "\n",
    "# Scatter Plot - Costs by Date with Category as Color\n",
    "scatter_plot = px.scatter(df, x='Date', y='Cost', color='Category', \n",
    "                        title='Scatter Plot of Costs by Date')\n",
    "\n",
    "\n",
    "# Pie Chart - Distribution by Category\n",
    "pie_chart = px.pie(df, names='Category', title='Expense Distribution by Category')\n",
    "\n",
    "# Box Plot - Cost Distribution by Category\n",
    "box_plot = px.box(df, x='Category', y='Cost', title='Cost Distribution by Category')\n",
    "\n",
    "# Create Panel Dashboard\n",
    "pn.extension('plotly')\n",
    "dashboard = pn.Tabs(\n",
    "    ('Daily Expenses', daily_total_cost_cleaned_plot),\n",
    "    ('Scatter Plot', scatter_plot),\n",
    "    ('Pie Chart', pie_chart),\n",
    "    ('Box Plot', box_plot)\n",
    ")\n",
    "\n",
    "# Serve the dashboard\n",
    "dashboard.servable()"
   ]
  }
 ],
 "metadata": {
  "kernelspec": {
   "display_name": "Image_Captioning",
   "language": "python",
   "name": "python3"
  },
  "language_info": {
   "codemirror_mode": {
    "name": "ipython",
    "version": 3
   },
   "file_extension": ".py",
   "mimetype": "text/x-python",
   "name": "python",
   "nbconvert_exporter": "python",
   "pygments_lexer": "ipython3",
   "version": "3.11.4"
  }
 },
 "nbformat": 4,
 "nbformat_minor": 2
}
